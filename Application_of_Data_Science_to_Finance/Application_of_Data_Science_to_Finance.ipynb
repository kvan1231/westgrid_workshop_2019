{
 "cells": [
  {
   "cell_type": "markdown",
   "metadata": {},
   "source": [
    "# Application of Data Science to Finance\n",
    "\n",
    "\"Machine learning is an application of artificial intelligence (AI) that provides systems the ability to automatically learn and improve from experience without being explicitly programmed. Machine learning focuses on the development of computer programs that can access data and use it learn for themselves.\"\n",
    "\n",
    "- Step 1: Train a Machine learning model with example\n",
    "- Step 2: Predict with a trained model\n",
    "\n"
   ]
  },
  {
   "cell_type": "markdown",
   "metadata": {},
   "source": [
    "## Exercise: Framing a machine learning problem\n",
    "\n",
    "What are inputs and outputs that could be used for credit risk calculation?\n",
    "\n",
    "- Inputs\n",
    "    - Income\n",
    "    - Debt\n",
    "    - Assests\n",
    "    - Cosignors\n",
    "    - Age\n",
    "    - Type of residence\n",
    "    - Credit score\n",
    "    - Number of late payments\n",
    "\n",
    "- Outputs\n",
    "    - Chance of default\n",
    "    - Risk\n",
    "    \n",
    "- Example techniques\n",
    "    - Logistic regression\n",
    "    - Ensemble model\n",
    "    \n",
    "What are inputs and outputs that could be used for fraud detection?\n",
    "\n",
    "- Inputs\n",
    "    - Location\n",
    "    - Amount\n",
    "    - Spending habits or uncharacterstic spending\n",
    "    - Transaction frequency with single merchant\n",
    "    - Transaction velocity\n",
    "    - New/old merchant\n",
    "    \n",
    "- Outputs\n",
    "    - Chance of fraud\n",
    "    \n",
    "- Example techniques\n",
    "    - Logistic regression\n",
    "    - Ensemble model\n",
    "    "
   ]
  },
  {
   "cell_type": "code",
   "execution_count": null,
   "metadata": {},
   "outputs": [],
   "source": []
  }
 ],
 "metadata": {
  "kernelspec": {
   "display_name": "Python 3",
   "language": "python",
   "name": "python3"
  },
  "language_info": {
   "codemirror_mode": {
    "name": "ipython",
    "version": 3
   },
   "file_extension": ".py",
   "mimetype": "text/x-python",
   "name": "python",
   "nbconvert_exporter": "python",
   "pygments_lexer": "ipython3",
   "version": "3.6.8"
  }
 },
 "nbformat": 4,
 "nbformat_minor": 2
}
