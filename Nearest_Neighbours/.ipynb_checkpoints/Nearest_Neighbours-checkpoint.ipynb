{
 "cells": [
  {
   "cell_type": "markdown",
   "metadata": {},
   "source": [
    "# Classifiers and Regression"
   ]
  },
  {
   "cell_type": "markdown",
   "metadata": {},
   "source": [
    "## Introduction: Difference between classification and regression"
   ]
  },
  {
   "cell_type": "markdown",
   "metadata": {},
   "source": [
    "Regression: main ideas\n",
    "Regression predictive modelling\n",
    "    \n",
    "    Regression predictive modelling is the task of approximating a mapping function (f) from input explanatory variables (X) to a continuous output variable (y)\n",
    "    \n",
    "    Example: we have a test bench with the price and the size of different houses. Knowning the size of a new ouse, we want to know the corresponding price.\n",
    "    \n",
    "    - A regression problem requiers the prediction of a quantity\n",
    "    - Such a problem can have multiple input variables (multivariate)\n",
    "    - The skill of the model corresponds to the error in those predictions"
   ]
  },
  {
   "cell_type": "markdown",
   "metadata": {},
   "source": [
    "Example of scalar linear regresssion\n",
    "- Real system y = f(x), f unknown,\n",
    "- Set of n measurements $ y_i = f(x_i) $\n",
    "- Minimize the error between the estimation and the real value\n",
    "- Go from $y = f(x)$ to the to $y=ax$\n",
    "        \n",
    "Objective:\n",
    "    Find a scalar a such that the approximation y=ax is the best linear approximation of the real model in the sense of $||\\centerdot ||_2 -$ norm\n",
    "    \n",
    "- For a given a our estimator gives us the following estimations $y_i = ax_i$\n",
    "- We want to find a that minimizes\n",
    "\n",
    "$$ \\sum_{i=1}^n (\\hat{y}_i - y_i)^2 = \\sum_{i=1}^n (ax_i - y_i)^2 $$"
   ]
  },
  {
   "cell_type": "markdown",
   "metadata": {},
   "source": [
    "- Classification is the task of predicting a discrete class label.\n",
    "- Regression is the task of predicting a continuous quantity\n",
    "\n",
    "- Some algorithms can be used for both classification and regression with small modifications\n",
    "- Classification predictions can be evaluated using accuracy, whereas regression can be evaluated using error."
   ]
  },
  {
   "cell_type": "markdown",
   "metadata": {},
   "source": [
    "## Description of the Nearest Neighbour (NN) Algorithm\n",
    "- Instance based learning: does not construct a model\n",
    "- Classification is computed from a vote majority\n",
    "- For each new point, we consider the k nearest neighbours and choose the majority class\n",
    "- Simple algorith, successfully used in a large numer of problems\n",
    "- What does near mean?\n",
    "- Algorithm depends on k, what is a good choices of k?"
   ]
  },
  {
   "cell_type": "markdown",
   "metadata": {},
   "source": [
    "### Choise of the weights\n",
    "- Euclidian metrics\n",
    "    - Uniform weights\n",
    "        - The value assigned to a query point is computed for a simple majority vote of the nerest neightours. Each neighbour has the same weight\n",
    "        - Drawback occurs when the class distribution is skewed (domination of a class)\n",
    "    - Distance weights\n",
    "        - We assign weights proportional to the inverse of the distance from the query point. Nearer neighbours contribute more to the fit.\n",
    "        - Not uniformly sample data: only consider data points within a certain radius"
   ]
  },
  {
   "cell_type": "markdown",
   "metadata": {},
   "source": [
    "### How do we choose k?\n",
    "\n",
    "- The optimal choice of k is highly data-dependent.\n",
    "- Alarger k suppresses the effects of noise but it makes the classification boundaries less distinct.\n",
    "\n",
    "- Cross-validation method\n",
    "    - We partition our original data set into two subsets: the training set and the validation set.\n",
    "    - The training set is used to define the considered neighbours\n",
    "    - We choose a value of k, we apply the algorithm on the validation set\n",
    "    - We compute the number of misclassified points\n",
    "    - We repeat, changing the value of k. We choose the optimal value of k.\n",
    "    \n",
    "- to reduce variability , multiple rounds of cross-validation are performed using different partitions. The results are averaged"
   ]
  },
  {
   "cell_type": "markdown",
   "metadata": {},
   "source": [
    "### Some words about the NN regression\n",
    "- Data labels are continuous and not discrete.\n",
    "- The label assigned to a query point is computed based on the mean of the labels of its nearest neighbours."
   ]
  },
  {
   "cell_type": "markdown",
   "metadata": {},
   "source": [
    "### Implementaton\n",
    "- Different algorithms\n",
    "- Depends on the number of samples, query points, data structure."
   ]
  },
  {
   "cell_type": "markdown",
   "metadata": {},
   "source": [
    "#### Introduction Exercise"
   ]
  },
  {
   "cell_type": "code",
   "execution_count": 2,
   "metadata": {},
   "outputs": [],
   "source": [
    "import numpy as np\n",
    "import matplotlib.pyplot as plt\n",
    "import matplotlib.markers\n",
    "from sklearn import datasets, linear_model, neighbors \n",
    "from sklearn.metrics import mean_squared_error, r2_score, explained_variance_score\n",
    "from sklearn.neighbors import NearestNeighbors\n",
    "import time"
   ]
  },
  {
   "cell_type": "code",
   "execution_count": 2,
   "metadata": {},
   "outputs": [
    {
     "name": "stdout",
     "output_type": "stream",
     "text": [
      "[[ 0.  0.  5. ...  0.  0.  0.]\n",
      " [ 0.  0.  0. ... 10.  0.  0.]\n",
      " [ 0.  0.  0. ... 16.  9.  0.]\n",
      " ...\n",
      " [ 0.  0.  1. ...  6.  0.  0.]\n",
      " [ 0.  0.  2. ... 12.  0.  0.]\n",
      " [ 0.  0. 10. ... 12.  1.  0.]]\n"
     ]
    }
   ],
   "source": [
    "digits = datasets.load_digits()\n",
    "print(digits.data)"
   ]
  },
  {
   "cell_type": "code",
   "execution_count": 3,
   "metadata": {},
   "outputs": [
    {
     "data": {
      "text/plain": [
       "array([0, 1, 2, ..., 8, 9, 8])"
      ]
     },
     "execution_count": 3,
     "metadata": {},
     "output_type": "execute_result"
    }
   ],
   "source": [
    "digits.target"
   ]
  },
  {
   "cell_type": "code",
   "execution_count": 4,
   "metadata": {},
   "outputs": [
    {
     "data": {
      "text/plain": [
       "<Figure size 432x288 with 0 Axes>"
      ]
     },
     "metadata": {},
     "output_type": "display_data"
    },
    {
     "data": {
      "image/png": "[encoded data removed]",
      "text/plain": [
       "<Figure size 288x288 with 1 Axes>"
      ]
     },
     "metadata": {
      "needs_background": "light"
     },
     "output_type": "display_data"
    }
   ],
   "source": [
    "plt.gray()\n",
    "plt.matshow(digits.images[0])\n",
    "plt.show()"
   ]
  },
  {
   "cell_type": "code",
   "execution_count": 8,
   "metadata": {},
   "outputs": [
    {
     "name": "stdout",
     "output_type": "stream",
     "text": [
      "iris target_names\n",
      "['setosa' 'versicolor' 'virginica']\n",
      "iris feature_names\n",
      "['sepal length (cm)', 'sepal width (cm)', 'petal length (cm)', 'petal width (cm)']\n",
      "iris target[10]\n",
      "0\n",
      "iris data[10]\n",
      "[5.4 3.7 1.5 0.2]\n"
     ]
    }
   ],
   "source": [
    "iris = datasets.load_iris()\n",
    "\n",
    "print('iris target_names')\n",
    "print(iris.target_names)\n",
    "\n",
    "print('iris feature_names')\n",
    "print(iris.feature_names)\n",
    "\n",
    "print('iris target[10]')\n",
    "print(iris.target[10])\n",
    "\n",
    "print('iris data[10]')\n",
    "print(iris.data[10])"
   ]
  },
  {
   "cell_type": "markdown",
   "metadata": {},
   "source": [
    "## Exercise 1: Nearest Neighbours on a Temperature Problem\n",
    "\n",
    "The purpose of this exercise is to learn how to use the Nearest Neighbours algorithm on a toy problem. \n",
    "We consider a data set that corresponds to the mean temperatures (in °C) and the total precipitations (in mm) for different days of May 2018 and May 2019 in Calgary.\n"
   ]
  },
  {
   "cell_type": "markdown",
   "metadata": {},
   "source": [
    "1) Using the command np.array, create the data array X_data and the target array X_target that correspond to the given data set. The data array should have 2 columns (one for the temperature, and one for the precipitations) and 20 lines. The components of the target array X_target should be either 0 (May 2018) or 1 (May 2019). The target array should have 20 lines."
   ]
  },
  {
   "cell_type": "code",
   "execution_count": 10,
   "metadata": {},
   "outputs": [],
   "source": [
    "temp_array = np.array([9.4, 9.9, 13.1, 14.5, 13.6, 12.8, 16.7, 17.7, 9.4, 6.3,\n",
    "                       2.3, 5.2, 4.1, -1.4, -0.3, 4.4, 5.8, 7.3, 9.6, 13.2])\n",
    "precip_array = np.array([0.4, 0, 0, 0, 0, 0, 0.4, 1, 1.7, 2.6,\n",
    "                         0, 4.6, 0, 5.5, 1.4, 0, 6, 2.2, 0.3, 0.6])\n",
    "X_data = np.vstack((temp_array, precip_array)).T\n",
    "X_target = np.array([0, 0, 0, 0, 0, 0, 0, 0, 0, 0,\n",
    "                     1, 1, 1, 1, 1, 1, 1, 1, 1, 1]).T\n",
    "\n",
    "temp_2018 = temp_array[0:9].T\n",
    "temp_2019 = temp_array[10:].T\n",
    "precip_2018 = precip_array[0:9].T\n",
    "precip_2019 = precip_array[10:].T\n",
    "\n",
    "x_min = min(temp_array)\n",
    "x_max = max(temp_array)"
   ]
  },
  {
   "cell_type": "markdown",
   "metadata": {},
   "source": [
    "2) Create the 10x1 arrays temp_2018; temp_2019, precip_2018 and precip_2019 that respectively correspond to the temperature for the 10 considered days of 2018, of 2019 and for the precipitations in 2018 and 201"
   ]
  },
  {
   "cell_type": "code",
   "execution_count": 11,
   "metadata": {},
   "outputs": [
    {
     "data": {
      "image/png": "[encoded data removed]",
      "text/plain": [
       "<Figure size 648x360 with 1 Axes>"
      ]
     },
     "metadata": {
      "needs_background": "light"
     },
     "output_type": "display_data"
    }
   ],
   "source": [
    "plt.figure(figsize=(9,5))\n",
    "plt.grid(linewidth=0.25)\n",
    "plt.scatter(temp_2018,precip_2018,color='red',marker='v', label='May 2018')\n",
    "plt.scatter(temp_2019,precip_2019,color='blue',marker='s', label='May 2019')\n",
    "plt.xlabel(\"Temperature (°C)\")\n",
    "plt.ylabel(\"Precipitation (mm)\")\n",
    "plt.title(\"\")\n",
    "plt.legend(loc='upper right')\n",
    "plt.show()"
   ]
  },
  {
   "cell_type": "markdown",
   "metadata": {},
   "source": [
    "3) We consider a day for which the temperature was of 15°C and for which the precipitations were of 3mm. Just by graphic reading, do you think this day belongs to 2019 or 2018?\n",
    "\n",
    "What about a second day for which the temperature was of 6.5°C and the precipitations were of 1mm?\n",
    "\n",
    "To solve the classification problem, we want to plot the decision boundaries for each class. "
   ]
  },
  {
   "cell_type": "code",
   "execution_count": 12,
   "metadata": {},
   "outputs": [
    {
     "data": {
      "image/png": "[encoded data removed]",
      "text/plain": [
       "<Figure size 432x288 with 1 Axes>"
      ]
     },
     "metadata": {
      "needs_background": "light"
     },
     "output_type": "display_data"
    },
    {
     "data": {
      "text/plain": [
       "(array([[1.44222051, 1.61245155, 2.32594067, 2.6       , 2.96141858]]),\n",
       " array([[17,  9, 15, 12,  0]]))"
      ]
     },
     "execution_count": 12,
     "metadata": {},
     "output_type": "execute_result"
    }
   ],
   "source": [
    "n_neighbors = 5 # Nb of neighbours\n",
    "h = 0.02  # step size in the mesh\n",
    "\n",
    "temp=X_data[0:20:1,0]\n",
    "precip=X_data[0:20:1,1]\n",
    "\n",
    "weights='uniform'\n",
    "\n",
    "# Create color maps\n",
    "cmap_light = matplotlib.colors.ListedColormap(['#FFAAAA', '#AAFFAA', '#AAAAFF'])\n",
    "cmap_bold = matplotlib.colors.ListedColormap(['#FF0000', '#00FF00', '#0000FF'])\n",
    "\n",
    "# We create an instance of Neighbours Classifier and fit the data.\n",
    "clf = neighbors.KNeighborsClassifier(n_neighbors, weights=weights)\n",
    "clf.fit(X_data, X_target)\n",
    "\n",
    "# Plot the decision boundary. For that, we will assign a color to each\n",
    "# point in the mesh [x_min, x_max]x[y_min, y_max].\n",
    "x_min, x_max = temp.min() - 1, temp.max() + 1\n",
    "y_min, y_max = precip.min() - 1, precip.max() + 1\n",
    "xx, yy = np.meshgrid(np.arange(x_min, x_max, h),\n",
    "                         np.arange(y_min, y_max, h))\n",
    "Z = clf.predict(np.c_[xx.ravel(), yy.ravel()])\n",
    "\n",
    "# Put the result into a color plot\n",
    "Z = Z.reshape(xx.shape)\n",
    "plt.figure()\n",
    "plt.pcolormesh(xx, yy, Z, cmap=cmap_light)\n",
    "\n",
    "# Plot also the training points\n",
    "plt.scatter(temp, precip, c=X_target, cmap=cmap_bold,\n",
    "                edgecolor='k', s=20)\n",
    "plt.xlim(xx.min(), xx.max())\n",
    "plt.ylim(yy.min(), yy.max())\n",
    "plt.title(\"3-Class classification (k = %i, weights = '%s')\"\n",
    "              % (n_neighbors, weights))\n",
    "\n",
    "plt.xlabel(\"Temperature (°C)\")\n",
    "plt.ylabel(\"Precipitation (mm)\")\n",
    "plt.show()\n",
    "clf.kneighbors([[6.5,1]])\n"
   ]
  },
  {
   "cell_type": "markdown",
   "metadata": {},
   "source": [
    "\n",
    "The most important lines are the three lines \n",
    "\n",
    "clf = neighbors.KNeighborsClassifier(n_neighbors, weights='uniform')\n",
    "\n",
    "clf.fit(X_data, X_target)\n",
    "\n",
    "clf.predict(np.c_[xx.ravel(), yy.ravel()])\n",
    "\n",
    "The method .fit(X_data, X_target) is used fit the model using  X_data as training data and X_target as target values. \n",
    "\n",
    "The method .predict predicts the class labels for the provided data. \n",
    "\n",
    "The method .kneighbors finds the K-neighbors of a point\n"
   ]
  },
  {
   "cell_type": "markdown",
   "metadata": {},
   "source": [
    "4) Plot the decision boundaries using the distance weight."
   ]
  },
  {
   "cell_type": "code",
   "execution_count": 13,
   "metadata": {
    "scrolled": false
   },
   "outputs": [
    {
     "data": {
      "image/png": "[encoded data removed]",
      "text/plain": [
       "<Figure size 432x288 with 1 Axes>"
      ]
     },
     "metadata": {
      "needs_background": "light"
     },
     "output_type": "display_data"
    },
    {
     "data": {
      "text/plain": [
       "(array([[1.44222051, 1.61245155, 2.32594067, 2.6       , 2.96141858]]),\n",
       " array([[17,  9, 15, 12,  0]]))"
      ]
     },
     "execution_count": 13,
     "metadata": {},
     "output_type": "execute_result"
    }
   ],
   "source": [
    "weights = 'distance'\n",
    "\n",
    "# We create an instance of Neighbours Classifier and fit the data.\n",
    "clf = neighbors.KNeighborsClassifier(n_neighbors, weights=weights)\n",
    "clf.fit(X_data, X_target)\n",
    "\n",
    "# Plot the decision boundary. For that, we will assign a color to each\n",
    "# point in the mesh [x_min, x_max]x[y_min, y_max].\n",
    "x_min, x_max = temp.min() - 1, temp.max() + 1\n",
    "y_min, y_max = precip.min() - 1, precip.max() + 1\n",
    "xx, yy = np.meshgrid(np.arange(x_min, x_max, h),\n",
    "                         np.arange(y_min, y_max, h))\n",
    "Z = clf.predict(np.c_[xx.ravel(), yy.ravel()])\n",
    "\n",
    "# Put the result into a color plot\n",
    "Z = Z.reshape(xx.shape)\n",
    "plt.figure()\n",
    "plt.pcolormesh(xx, yy, Z, cmap=cmap_light)\n",
    "\n",
    "# Plot also the training points\n",
    "plt.scatter(temp, precip, c=X_target, cmap=cmap_bold,\n",
    "                edgecolor='k', s=20)\n",
    "plt.xlim(xx.min(), xx.max())\n",
    "plt.ylim(yy.min(), yy.max())\n",
    "plt.title(\"3-Class classification (k = %i, weights = '%s')\"\n",
    "              % (n_neighbors, weights))\n",
    "plt.xlabel(\"Temperature (°C)\")\n",
    "plt.ylabel(\"Precipitation (mm)\")\n",
    "plt.show()\n",
    "clf.kneighbors([[6.5,1]])"
   ]
  },
  {
   "cell_type": "markdown",
   "metadata": {},
   "source": [
    "5) For each weight change the number of neighbours used. What do you think about it? What would be for you the optimal number? Do you think we have enough training points?\n",
    "\n",
    "- The distance weight might over-constrain the data but it does effectively classify each of the training points. \n",
    "\n",
    "- 5 might in fact be the optimal number for neighbours\n",
    "\n",
    "- Having more training points would always be good, using distance and 5 neighbours with these data points we can classify all the data however."
   ]
  },
  {
   "cell_type": "markdown",
   "metadata": {},
   "source": [
    "6) We now consider a new data set that corresponds to the mean temperatures (in °C) and the total precipitations (in mm) for some other days of May 2018 and May 2019 in Calgary. Using the function score, returns the mean accuracy on the given testing set for k=3. Try again for k=5. Plot the accuracy as a function of k. Does the choice of the weights make a difference? Comment the obtained results."
   ]
  },
  {
   "cell_type": "code",
   "execution_count": 1,
   "metadata": {},
   "outputs": [
    {
     "ename": "NameError",
     "evalue": "name 'np' is not defined",
     "output_type": "error",
     "traceback": [
      "\u001b[0;31m---------------------------------------------------------------------------\u001b[0m",
      "\u001b[0;31mNameError\u001b[0m                                 Traceback (most recent call last)",
      "\u001b[0;32m<ipython-input-1-8f71ccd9ff71>\u001b[0m in \u001b[0;36m<module>\u001b[0;34m\u001b[0m\n\u001b[0;32m----> 1\u001b[0;31m temp_test = np.array([9.9, 12.8, 15.4, 18.4, 19.9, 19, 9.3, 10.1, 9.9, 14.3,\n\u001b[0m\u001b[1;32m      2\u001b[0m                      12.2, 16.5, 12.4, 14.3, 12.8, 7, 5.1, 4.4, 6.7, 4.1])\n\u001b[1;32m      3\u001b[0m \u001b[0;31m# print(len(temp_ext))\u001b[0m\u001b[0;34m\u001b[0m\u001b[0;34m\u001b[0m\u001b[0;34m\u001b[0m\u001b[0m\n\u001b[1;32m      4\u001b[0m precip_test = np.array([0.2, 0, 0, 0, 0, 0, 10.8, 1.8, 0, 0,\n\u001b[1;32m      5\u001b[0m                        0, 0, 0.1, 0.4, 0.4, 1.6, 10, 2.8, 0, 0])\n",
      "\u001b[0;31mNameError\u001b[0m: name 'np' is not defined"
     ]
    }
   ],
   "source": [
    "temp_test = np.array([9.9, 12.8, 15.4, 18.4, 19.9, 19, 9.3, 10.1, 9.9, 14.3,\n",
    "                     12.2, 16.5, 12.4, 14.3, 12.8, 7, 5.1, 4.4, 6.7, 4.1])\n",
    "# print(len(temp_ext))\n",
    "precip_test = np.array([0.2, 0, 0, 0, 0, 0, 10.8, 1.8, 0, 0,\n",
    "                       0, 0, 0.1, 0.4, 0.4, 1.6, 10, 2.8, 0, 0])\n",
    "# print(len(precip_ext))\n",
    "X_data_test = np.vstack((temp_test, precip_test)).T\n",
    "X_target_test = np.array([0, 0, 0, 0, 0, 0, 0, 0, 0, 0,\n",
    "                          1, 1, 1, 1, 1, 1, 1, 1, 1, 1,]).T\n",
    "\n",
    "temp_test_2018 = temp_test[0:9].T\n",
    "temp_test_2019 = temp_test[10:].T\n",
    "precip_test_2018 = precip_test[0:9].T\n",
    "precip_test_2019 = precip_test[10:].T\n"
   ]
  },
  {
   "cell_type": "code",
   "execution_count": 48,
   "metadata": {},
   "outputs": [
    {
     "data": {
      "image/png": "[encoded data removed]",
      "text/plain": [
       "<Figure size 432x288 with 1 Axes>"
      ]
     },
     "metadata": {
      "needs_background": "light"
     },
     "output_type": "display_data"
    }
   ],
   "source": [
    "n = np.linspace(1, 10, 10)\n",
    "h = 0.02  # step size in the mesh\n",
    "\n",
    "uniform_scores = []\n",
    "distance_scores = []\n",
    "\n",
    "for weights in ['uniform', 'distance']:\n",
    "    for n_neighbors in n:\n",
    "        n_neighbors = int(n_neighbors)\n",
    "        # We create an instance of Neighbours Classifier and fit the data.\n",
    "        clf = neighbors.KNeighborsClassifier(n_neighbors, weights=weights)\n",
    "        clf.fit(X_data, X_target)\n",
    "\n",
    "        score = clf.score(X_data_test, X_target)\n",
    "#         print(weights)\n",
    "#         print(score)\n",
    "        if weights == 'uniform':\n",
    "            uniform_scores.append(score)\n",
    "        elif weights == 'distance':\n",
    "            distance_scores.append(score)\n",
    "\n",
    "plt.figure()\n",
    "plt.plot(n, uniform_scores, label='uniform')\n",
    "plt.plot(n, distance_scores, label='distance')\n",
    "plt.legend()\n",
    "plt.xlabel(\"number of neighbours\")\n",
    "plt.ylabel(\"accuracy\")\n",
    "plt.show()\n"
   ]
  },
  {
   "cell_type": "markdown",
   "metadata": {},
   "source": [
    "The choice of weight changes the accuracy with distance being more accurate than uniform. The number of neighbours has little effect on the accuracy and the effect isn't monotonic"
   ]
  },
  {
   "cell_type": "markdown",
   "metadata": {},
   "source": [
    "## Exercise 2: Nearest Neighbours for the Digit Dataset\n",
    "\n",
    "In this exercise, we consider the digit dataset.  This dataset has 1797 samples. We will use 500 samples as the training dataset, 500 samples as the testing dataset and 797 samples as the unknown dataset."
   ]
  },
  {
   "cell_type": "markdown",
   "metadata": {},
   "source": [
    "1) We choose 50 neighbour. What is the accuracy of the classification? We will consider the different weights (uniform and distance)."
   ]
  },
  {
   "cell_type": "code",
   "execution_count": 8,
   "metadata": {},
   "outputs": [
    {
     "name": "stdout",
     "output_type": "stream",
     "text": [
      "uniform testing accuracy: 0.804\n",
      "uniform unknown accuracy: 0.8707653701380176\n",
      "distance testing accuracy: 0.812\n",
      "distance unknown accuracy: 0.8858218318695107\n"
     ]
    }
   ],
   "source": [
    "digits = datasets.load_digits()\n",
    "\n",
    "digits_data = digits.data\n",
    "# print(len(digits_data))\n",
    "\n",
    "n_neighbors = 50 # Nb of neighbours\n",
    "h = 1  # step size in the mesh\n",
    "\n",
    "training_data = digits_data[0:500, :]\n",
    "training_target = digits.target[0:500,]\n",
    "\n",
    "testing_data = digits_data[500:1000, :]\n",
    "testing_target = digits.target[500:1000]\n",
    "\n",
    "unknown_data = digits_data[1000:, :]\n",
    "unknown_target = digits.target[1000:]\n",
    "\n",
    "for weights in ['uniform', 'distance']:\n",
    "# weights = 'uniform'\n",
    "\n",
    "    # We create an instance of Neighbours Classifier and fit the data.\n",
    "    clf = neighbors.KNeighborsClassifier(n_neighbors, weights=weights)\n",
    "    clf.fit(training_data, training_target)\n",
    "\n",
    "    test_score = clf.score(testing_data, testing_target)\n",
    "    unknown_score = clf.score(unknown_data, unknown_target)\n",
    "    end = time.time()\n",
    "\n",
    "    print(weights + \" testing accuracy: \" + str(test_score))\n",
    "    print(weights + \" unknown accuracy: \" + str(unknown_score))"
   ]
  },
  {
   "cell_type": "markdown",
   "metadata": {},
   "source": [
    "2) Compare the performance of the different algorithms: “ball_tree”, kd_tree”, “brute” for 50 and 150 neighbors (accuracy and time of execution). What do you think of the obtained results? To print the time of execution of a script, you can use the following code.\n",
    "\n",
    "import time\n",
    "\n",
    "start = time.time()\n",
    "\n",
    "#Your code\n",
    "\n",
    "end = time.time()\n",
    "\n",
    "print(end - start)"
   ]
  },
  {
   "cell_type": "code",
   "execution_count": 9,
   "metadata": {},
   "outputs": [
    {
     "name": "stdout",
     "output_type": "stream",
     "text": [
      "ball_tree, k: 50\n",
      "uniform testing accuracy: 0.802\n",
      "uniform unknown accuracy: 0.8707653701380176\n",
      "time taken: 0.09022903442382812\n",
      "\n",
      "kd_tree, k: 50\n",
      "uniform testing accuracy: 0.804\n",
      "uniform unknown accuracy: 0.8707653701380176\n",
      "time taken: 0.10505962371826172\n",
      "\n",
      "brute, k: 50\n",
      "uniform testing accuracy: 0.804\n",
      "uniform unknown accuracy: 0.8707653701380176\n",
      "time taken: 0.0453794002532959\n",
      "\n",
      "brute, k: 150\n",
      "uniform testing accuracy: 0.67\n",
      "uniform unknown accuracy: 0.6612296110414053\n",
      "time taken: 0.10556411743164062\n",
      "\n",
      "ball_tree, k: 50\n",
      "distance testing accuracy: 0.81\n",
      "distance unknown accuracy: 0.8858218318695107\n",
      "time taken: 0.06473422050476074\n",
      "\n",
      "kd_tree, k: 50\n",
      "distance testing accuracy: 0.812\n",
      "distance unknown accuracy: 0.8858218318695107\n",
      "time taken: 0.082672119140625\n",
      "\n",
      "brute, k: 50\n",
      "distance testing accuracy: 0.812\n",
      "distance unknown accuracy: 0.8858218318695107\n",
      "time taken: 0.02220940589904785\n",
      "\n",
      "brute, k: 150\n",
      "distance testing accuracy: 0.742\n",
      "distance unknown accuracy: 0.795483061480552\n",
      "time taken: 0.06315207481384277\n",
      "\n"
     ]
    }
   ],
   "source": [
    "for weights in ['uniform', 'distance']:\n",
    "    for algorithm in ['ball_tree', 'kd_tree', 'brute']:\n",
    "        start = time.time()\n",
    "    \n",
    "        if algorithm == 'brute':\n",
    "            for n_neighbors in [50, 150]:\n",
    "                # We create an instance of  Classifier and fit the data.\n",
    "                clf = neighbors.KNeighborsClassifier(n_neighbors, algorithm=algorithm, weights=weights)\n",
    "                clf.fit(training_data, training_target)\n",
    "\n",
    "                test_score = clf.score(testing_data, testing_target)\n",
    "                unknown_score = clf.score(unknown_data, unknown_target)\n",
    "                end = time.time()\n",
    "\n",
    "                print(algorithm + ', k: ' + str(n_neighbors))\n",
    "                print(weights + \" testing accuracy: \" + str(test_score))\n",
    "                print(weights + \" unknown accuracy: \" + str(unknown_score))\n",
    "                print('time taken: ' + str(end - start) + '\\n')\n",
    "        else:\n",
    "            n_neighbors = 50\n",
    "\n",
    "            # We create an instance of  Classifier and fit the data.\n",
    "            clf = neighbors.KNeighborsClassifier(n_neighbors, algorithm=algorithm, weights=weights)\n",
    "            clf.fit(training_data, training_target)\n",
    "\n",
    "            test_score = clf.score(testing_data, testing_target)\n",
    "            unknown_score = clf.score(unknown_data, unknown_target)\n",
    "            end = time.time()\n",
    "\n",
    "            print(algorithm + ', k: ' + str(n_neighbors))\n",
    "            print(weights + \" testing accuracy: \" + str(test_score))\n",
    "            print(weights + \" unknown accuracy: \" + str(unknown_score))\n",
    "            print('time taken: ' + str(end - start) + '\\n')"
   ]
  },
  {
   "cell_type": "markdown",
   "metadata": {},
   "source": [
    "3) We choose either k=50, k=100 or k=150. Which value of k seems to be the best? Test your classifier on the unknown dataset for each value of k. Comment"
   ]
  },
  {
   "cell_type": "code",
   "execution_count": 17,
   "metadata": {},
   "outputs": [
    {
     "data": {
      "image/png": "[encoded data removed]",
      "text/plain": [
       "<Figure size 432x288 with 1 Axes>"
      ]
     },
     "metadata": {
      "needs_background": "light"
     },
     "output_type": "display_data"
    }
   ],
   "source": [
    "n = np.linspace(1, 500, 500)\n",
    "h = 0.02  # step size in the mesh\n",
    "\n",
    "uniform_scores = []\n",
    "distance_scores = []\n",
    "\n",
    "for weights in ['uniform', 'distance']:\n",
    "    for n_neighbors in n:\n",
    "        n_neighbors = int(n_neighbors)\n",
    "        # We create an instance of Neighbours Classifier and fit the data.\n",
    "        clf = neighbors.KNeighborsClassifier(n_neighbors, weights=weights)\n",
    "        clf.fit(training_data, training_target)\n",
    "\n",
    "        score = clf.score(unknown_data, unknown_target)\n",
    "#         print(weights)\n",
    "#         print(score)\n",
    "        if weights == 'uniform':\n",
    "            uniform_scores.append(score)\n",
    "        elif weights == 'distance':\n",
    "            distance_scores.append(score)\n",
    "            \n",
    "plt.figure()\n",
    "plt.plot(n, uniform_scores, label='uniform')\n",
    "plt.plot(n, distance_scores, label='distance')\n",
    "plt.legend()\n",
    "plt.xlabel(\"number of neighbours\")\n",
    "plt.ylabel(\"accuracy\")\n",
    "plt.show()"
   ]
  },
  {
   "cell_type": "markdown",
   "metadata": {},
   "source": [
    "In general the accuracy decreases as a function of number of neighbours and drops more aggressively with uniform weight."
   ]
  },
  {
   "cell_type": "markdown",
   "metadata": {},
   "source": [
    "4) Using your training set, plot the accuracy as a function of k. Comment"
   ]
  },
  {
   "cell_type": "code",
   "execution_count": 18,
   "metadata": {
    "scrolled": true
   },
   "outputs": [
    {
     "data": {
      "image/png": "[encoded data removed]",
      "text/plain": [
       "<Figure size 432x288 with 1 Axes>"
      ]
     },
     "metadata": {
      "needs_background": "light"
     },
     "output_type": "display_data"
    }
   ],
   "source": [
    "n = np.linspace(1, 500, 500)\n",
    "h = 0.02  # step size in the mesh\n",
    "\n",
    "uniform_scores = []\n",
    "distance_scores = []\n",
    "\n",
    "for weights in ['uniform', 'distance']:\n",
    "    for n_neighbors in n:\n",
    "        n_neighbors = int(n_neighbors)\n",
    "        # We create an instance of Neighbours Classifier and fit the data.\n",
    "        clf = neighbors.KNeighborsClassifier(n_neighbors, weights=weights)\n",
    "        clf.fit(training_data, training_target)\n",
    "\n",
    "        score = clf.score(testing_data, testing_target)\n",
    "#         print(weights)\n",
    "#         print(score)\n",
    "        if weights == 'uniform':\n",
    "            uniform_scores.append(score)\n",
    "        elif weights == 'distance':\n",
    "            distance_scores.append(score)\n",
    "            \n",
    "plt.figure()\n",
    "plt.plot(n, uniform_scores, label='uniform')\n",
    "plt.plot(n, distance_scores, label='distance')\n",
    "plt.legend()\n",
    "plt.xlabel(\"number of neighbours\")\n",
    "plt.ylabel(\"accuracy\")\n",
    "plt.show()"
   ]
  },
  {
   "cell_type": "markdown",
   "metadata": {},
   "source": [
    "Again, similar to the unknown data set, the accuracy decreases as a function of number of neighbours and drops more aggressively with uniform weight."
   ]
  },
  {
   "cell_type": "markdown",
   "metadata": {},
   "source": [
    "## Exercise 3: Nearest Neighbours for the Iris Dataset\n",
    "\n",
    "In this exercise, we consider the iris dataset. This dataset has 150 samples. The first 50 samples correspond to setosa, the next 50 to versicolor and the last 50 to virginica.  We will use 50 samples as the training dataset, 50 samples as the testing dataset and 50 samples as the unknown dataset. Each sample of the dataset has four components. However, we will consider in this exercise that only the two first components are relevant."
   ]
  },
  {
   "cell_type": "markdown",
   "metadata": {},
   "source": [
    "1) Create the training dataset that contains at least 16 samples that correspond to setosa, 16 samples that correspond to versicolor and 16 samples that correspond to virginica. Create the testing and unknown datasets mixing the types of iris."
   ]
  },
  {
   "cell_type": "code",
   "execution_count": 20,
   "metadata": {},
   "outputs": [],
   "source": [
    "iris = datasets.load_iris()"
   ]
  },
  {
   "cell_type": "code",
   "execution_count": 21,
   "metadata": {},
   "outputs": [
    {
     "name": "stdout",
     "output_type": "stream",
     "text": [
      "['setosa' 'versicolor' 'virginica']\n",
      "['sepal length (cm)', 'sepal width (cm)', 'petal length (cm)', 'petal width (cm)']\n"
     ]
    }
   ],
   "source": [
    "# Defining the data\n",
    "\n",
    "print(iris.target_names)\n",
    "print(iris.feature_names)\n",
    "iris_data = iris.data[:,:2]\n",
    "iris_target = iris.target\n",
    "\n",
    "#Training set\n",
    "training_data = iris_data[0:150:3,:]\n",
    "training_target = iris_target[0:150:3]\n",
    "\n",
    "#We consider the next 50 points for the testing set\n",
    "testing_data = iris_data[1:150:3,:]\n",
    "testing_target = iris_target[1:150:3]\n",
    "\n",
    "\n",
    "#We consider the next 50 points for the unknown set\n",
    "unknown_data = iris_data[2:150:3,:]\n",
    "unknown_target = iris_target[2:150:3]\n",
    "h = .02  # step size in the mesh"
   ]
  },
  {
   "cell_type": "markdown",
   "metadata": {},
   "source": [
    "2) For each type of weights, plot the decision domain using the given training set."
   ]
  },
  {
   "cell_type": "code",
   "execution_count": 26,
   "metadata": {},
   "outputs": [
    {
     "data": {
      "image/png": "[encoded data removed]",
      "text/plain": [
       "<Figure size 432x288 with 1 Axes>"
      ]
     },
     "metadata": {
      "needs_background": "light"
     },
     "output_type": "display_data"
    },
    {
     "data": {
      "image/png": "[encoded data removed]",
      "text/plain": [
       "<Figure size 432x288 with 1 Axes>"
      ]
     },
     "metadata": {
      "needs_background": "light"
     },
     "output_type": "display_data"
    },
    {
     "data": {
      "text/plain": [
       "0.76"
      ]
     },
     "execution_count": 26,
     "metadata": {},
     "output_type": "execute_result"
    }
   ],
   "source": [
    "n_neighbors = 25 # Nb of neighbours\n",
    "h = 0.02  # step size in the mesh\n",
    "\n",
    "# Create color maps\n",
    "cmap_light = matplotlib.colors.ListedColormap(['#FFAAAA', '#AAFFAA', '#AAAAFF'])\n",
    "cmap_bold = matplotlib.colors.ListedColormap(['#FF0000', '#00FF00', '#0000FF'])\n",
    "\n",
    "n_neighbors=25\n",
    "\n",
    "for weights in ['uniform', 'distance']:\n",
    "    # we create an instance of Neighbours Classifier and fit the data.\n",
    "    clf = neighbors.KNeighborsClassifier(n_neighbors, weights=weights)\n",
    "    clf.fit(training_data, training_target)\n",
    "\n",
    "    # Plot the decision boundary. For that, we will assign a color to each\n",
    "    # point in the mesh [x_min, x_max]x[y_min, y_max].\n",
    "    x_min, x_max = training_data[:, 0].min() - 1, training_data[:, 0].max() + 1\n",
    "    y_min, y_max = training_data[:, 1].min() - 1, training_data[:, 1].max() + 1\n",
    "    xx, yy = np.meshgrid(np.arange(x_min, x_max, h),\n",
    "                         np.arange(y_min, y_max, h))\n",
    "    Z = clf.predict(np.c_[xx.ravel(), yy.ravel()])\n",
    "\n",
    "    # Put the result into a color plot\n",
    "    Z = Z.reshape(xx.shape)\n",
    "    plt.figure()\n",
    "    plt.pcolormesh(xx, yy, Z, cmap=cmap_light)\n",
    "\n",
    "    # Plot also the training points\n",
    "    plt.scatter(training_data[:, 0], training_data[:, 1], c=training_target, cmap=cmap_bold,\n",
    "                edgecolor='k', s=20)\n",
    "    plt.xlim(xx.min(), xx.max())\n",
    "    plt.ylim(yy.min(), yy.max())\n",
    "    plt.title(\"3-Class classification (k = %i, weights = '%s')\"\n",
    "              % (n_neighbors, weights))\n",
    "\n",
    "plt.show()\n",
    "clf.score(unknown_data, unknown_target)"
   ]
  },
  {
   "cell_type": "markdown",
   "metadata": {},
   "source": [
    "3) Using you testing dataset and the “distance weights”, what is the best value for k? For this value of k, test your classifier against the unknown dataset. Now test it with k=10 and k=20. Comment."
   ]
  },
  {
   "cell_type": "code",
   "execution_count": 28,
   "metadata": {},
   "outputs": [
    {
     "data": {
      "image/png": "[encoded data removed]",
      "text/plain": [
       "<Figure size 432x288 with 1 Axes>"
      ]
     },
     "metadata": {
      "needs_background": "light"
     },
     "output_type": "display_data"
    }
   ],
   "source": [
    "n = np.linspace(1, 50, 50)\n",
    "h = 0.02  # step size in the mesh\n",
    "\n",
    "uniform_scores = []\n",
    "distance_scores = []\n",
    "\n",
    "weights = 'distance'\n",
    "for n_neighbors in n:\n",
    "    n_neighbors = int(n_neighbors)\n",
    "    # We create an instance of Neighbours Classifier and fit the data.\n",
    "    clf = neighbors.KNeighborsClassifier(n_neighbors, weights=weights)\n",
    "    clf.fit(training_data, training_target)\n",
    "\n",
    "    score = clf.score(testing_data, testing_target)\n",
    "#         print(weights)\n",
    "#         print(score)\n",
    "    distance_scores.append(score)\n",
    "            \n",
    "plt.figure()\n",
    "plt.plot(n, distance_scores, label='distance')\n",
    "plt.legend()\n",
    "plt.xlabel(\"number of neighbours\")\n",
    "plt.ylabel(\"accuracy\")\n",
    "plt.show()"
   ]
  }
 ],
 "metadata": {
  "kernelspec": {
   "display_name": "Python 3",
   "language": "python",
   "name": "python3"
  },
  "language_info": {
   "codemirror_mode": {
    "name": "ipython",
    "version": 3
   },
   "file_extension": ".py",
   "mimetype": "text/x-python",
   "name": "python",
   "nbconvert_exporter": "python",
   "pygments_lexer": "ipython3",
   "version": "3.6.8"
  }
 },
 "nbformat": 4,
 "nbformat_minor": 2
}
