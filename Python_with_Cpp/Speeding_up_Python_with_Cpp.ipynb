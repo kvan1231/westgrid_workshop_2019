{
 "cells": [
  {
   "cell_type": "markdown",
   "metadata": {},
   "source": [
    "# Speeding up Python with C++"
   ]
  },
  {
   "cell_type": "markdown",
   "metadata": {},
   "source": [
    "## Introduction\n",
    "\n",
    "\n",
    "- Python is a very nice language.\n",
    "- Python has lots of libraries.\n",
    "- Python is used very widely.\n",
    "- Python library functions usually run very fast.\n",
    "\n",
    "- Pure Python is very slow (interpreted language).\n",
    "- To write fast code you have to wrap you ideas into the language of the library.\n",
    "- What do you do if there is no library that does what you need?\n",
    "\n",
    "- Flexibility of using Python and still being able to do exactly what you want, quickly."
   ]
  },
  {
   "cell_type": "markdown",
   "metadata": {},
   "source": [
    "## How to call C/C++ from Python?\n",
    "\n",
    "- Python-C-API is the backbone of the standard Python interpreter, CPython. Using this API it is possible to write Python extension module in C and C++.\n",
    "- CTypes is included in Python 2.5 and later. CTypes lets you talk directly to shared libraries on both Windows and UNIX.\n",
    "- SWIG: Simple Wrapper Interface Generator. SWIG is capable of wrapping C in a large variety of languages.\n",
    "- Cython is both a python-like language for writing C-extensions and an advanced compiler for this language.\n",
    "- Pyrex is a Python-like language used to create C modules for Python.\n",
    "- SIP is used to generate Python bindings for Qt (PyQt), a graphics library. It can be used to wrap any C or C++ API.\n",
    "- Boost.Python lets you run C++ code from Python, and Python code from C++, seamlessly.\n"
   ]
  },
  {
   "cell_type": "markdown",
   "metadata": {},
   "source": [
    "### Ctypes\n",
    "\n",
    "- A foreign function library from Python. It provides C compatible data types, and allows calling functions in DLLs or shared libraries. It can be used to wrap calls to these libraries in pure Python.\n",
    "\n",
    "#### Caveats\n",
    "\n",
    "- Have to compile your code into a shared (dynamic) library\n",
    "- Not suitable for complex data types\n",
    "- No explicit support for C++ (unimportant)\n",
    "\n",
    "#### Examples of Ctypes code:\n",
    "\n",
    "- C types: c_int, c_double, c_float, c_bool, c_char, c_size_t...\n",
    "- Array types: (c_int * 10), (c_double * 20)\n",
    "- Pointer types: POINTER(c_int), POINTER(c_double)\n",
    "    - Special pointer types: c_char_p, c_void_p\n",
    "- Constructors: c_int(), c_int(variable), (c_int * 10)()\n",
    "- Pointer to a variable: pointer(variable)\n",
    "- Type casting: pointer(variable)\n",
    "- Functions: sizeof(variable), sizeof(c_int), addressof(variable)"
   ]
  },
  {
   "cell_type": "code",
   "execution_count": 8,
   "metadata": {},
   "outputs": [
    {
     "data": {
      "text/plain": [
       "c_double(2.72)"
      ]
     },
     "execution_count": 8,
     "metadata": {},
     "output_type": "execute_result"
    }
   ],
   "source": [
    "# Ctypes Example\n",
    "\n",
    "# load the module\n",
    "import ctypes as ct\n",
    "\n",
    "# check the contents of the module\n",
    "dir(ct)\n",
    "\n",
    "# Ctypes data types\n",
    "ct.c_double\n",
    "ct.c_int\n",
    "ct.c_char\n",
    "\n",
    "ct.c_double()\n",
    "\n",
    "# create variables using constructors\n",
    "cx = ct.c_double(3.14)\n",
    "cx \n",
    "\n",
    "# Get information about CTypes objects.\n",
    "ct.sizeof(cx)\n",
    "ct.addressof(cx)\n",
    "hex(ct.addressof(cx))\n",
    "\n",
    "# Ctype objects can be changed\n",
    "cx.value\n",
    "cx.value = 2.72\n",
    "cx"
   ]
  },
  {
   "cell_type": "code",
   "execution_count": 48,
   "metadata": {},
   "outputs": [
    {
     "name": "stdout",
     "output_type": "stream",
     "text": [
      "libm.so.6\n"
     ]
    },
    {
     "data": {
      "text/plain": [
       "-0.9999987317275395"
      ]
     },
     "execution_count": 48,
     "metadata": {},
     "output_type": "execute_result"
    }
   ],
   "source": [
    "# Ctypes Example: Calling an External Function\n",
    "\n",
    "# load the modules\n",
    "import ctypes as ct\n",
    "import ctypes.util\n",
    "\n",
    "# check contents of ct.util\n",
    "dir(ct.util)\n",
    "\n",
    "# util.find_library() searches standard locations for libm.so\n",
    "# this is a math library for c\n",
    "print(ct.util.find_library(\"m\"))\n",
    "\n",
    "# load the library, library object with lazy access\n",
    "libm = ct.cdll.LoadLibrary(\"libm.so.6\")\n",
    "dir(libm)\n",
    "\n",
    "# find the function cos\n",
    "libm.cos\n",
    "dir(libm)\n",
    "\n",
    "# Must define\n",
    "# > restype is a type\n",
    "# > argtype is a list of types\n",
    "libm.cos.restype = ct.c_double\n",
    "libm.cos.argtypes = [ct.c_double]\n",
    "\n",
    "# calculate cos(pi)\n",
    "libm.cos(3.14)\n",
    "\n",
    "# Unfortunately you need to know the libc function. Must look through libc manual to find function"
   ]
  },
  {
   "cell_type": "markdown",
   "metadata": {},
   "source": [
    "### Problem 1)  Access double drand48(void) function from libc to get a 100 random values. https://www.gnu.org/software/libc/manual/html_mono/libc.html"
   ]
  },
  {
   "cell_type": "code",
   "execution_count": 49,
   "metadata": {},
   "outputs": [
    {
     "name": "stdout",
     "output_type": "stream",
     "text": [
      "libc.so.6\n",
      "100\n"
     ]
    }
   ],
   "source": [
    "# load the modules\n",
    "import ctypes as ct\n",
    "import ctypes.util\n",
    "\n",
    "# check contents of ct.util\n",
    "dir(ct.util)\n",
    "\n",
    "# util.find_library() searches standard locations for libm.so\n",
    "# this is a math library for c\n",
    "print(ct.util.find_library(\"c\"))\n",
    "\n",
    "# load the library, library object with lazy access\n",
    "libc = ct.cdll.LoadLibrary(\"libc.so.6\")\n",
    "\n",
    "libc.drand48\n",
    "libc.drand48.restype = ct.c_double\n",
    "libc.drand48.argtypes = None\n",
    "\n",
    "rand_list = [libc.drand48(None) for i in range(100)]\n",
    "print(len(rand_list))"
   ]
  },
  {
   "cell_type": "markdown",
   "metadata": {},
   "source": [
    "#### C-pointer concept refresher\n",
    "\n",
    "- Pointer is a variable containing a generalized memory address\n",
    "- Dereference operator * and Address operator &\n",
    "- C-arrays and pointers are very similar\n",
    "- Arrays are constants and pointers are variabls\n",
    "- Pointers have types because they point to data of specific size and format\n",
    " \n",
    "#### Ctypes pointers\n",
    "- Arrays and pointers for accessing multiple data\n",
    "- Arrays can be cast into pointers automatically\n",
    "- Arrays know the limits, points do not\n",
    "- There are many ways to create a pointer\n",
    "- ctypes.POINTER is a constructor\n",
    "- ctypes.pointer is a function\n"
   ]
  },
  {
   "cell_type": "code",
   "execution_count": 51,
   "metadata": {},
   "outputs": [
    {
     "data": {
      "text/plain": [
       "<__main__.c_int_Array_10 at 0x7f89e82dcb70>"
      ]
     },
     "execution_count": 51,
     "metadata": {},
     "output_type": "execute_result"
    }
   ],
   "source": [
    "xx = (ctypes.c_int * 10)()\n",
    "xx"
   ]
  },
  {
   "cell_type": "code",
   "execution_count": 52,
   "metadata": {},
   "outputs": [
    {
     "data": {
      "text/plain": [
       "[0, 0, 0, 0, 0, 0, 0, 0, 0, 0]"
      ]
     },
     "execution_count": 52,
     "metadata": {},
     "output_type": "execute_result"
    }
   ],
   "source": [
    "list(xx)"
   ]
  },
  {
   "cell_type": "code",
   "execution_count": 54,
   "metadata": {},
   "outputs": [
    {
     "data": {
      "text/plain": [
       "<__main__.c_int_Array_10 at 0x7f89e82dcb70>"
      ]
     },
     "execution_count": 54,
     "metadata": {},
     "output_type": "execute_result"
    }
   ],
   "source": [
    "xx[:] = range(10)\n",
    "xx"
   ]
  },
  {
   "cell_type": "code",
   "execution_count": 56,
   "metadata": {},
   "outputs": [
    {
     "data": {
      "text/plain": [
       "<__main__.LP_c_int at 0x7f89e811ab70>"
      ]
     },
     "execution_count": 56,
     "metadata": {},
     "output_type": "execute_result"
    }
   ],
   "source": [
    "px = ctypes.POINTER(ctypes.c_int)(xx)\n",
    "px"
   ]
  },
  {
   "cell_type": "code",
   "execution_count": 58,
   "metadata": {},
   "outputs": [
    {
     "data": {
      "text/plain": [
       "2"
      ]
     },
     "execution_count": 58,
     "metadata": {},
     "output_type": "execute_result"
    }
   ],
   "source": [
    "px[2]"
   ]
  },
  {
   "cell_type": "code",
   "execution_count": 62,
   "metadata": {},
   "outputs": [],
   "source": [
    "# This doesnt work because its out of index\n",
    "# xx[10]"
   ]
  },
  {
   "cell_type": "code",
   "execution_count": 63,
   "metadata": {},
   "outputs": [
    {
     "data": {
      "text/plain": [
       "1"
      ]
     },
     "execution_count": 63,
     "metadata": {},
     "output_type": "execute_result"
    }
   ],
   "source": [
    "# This doesn't exist but C doesn't care and will still spit something out from memory\n",
    "px[10] "
   ]
  },
  {
   "cell_type": "markdown",
   "metadata": {},
   "source": [
    "#### Strings and CTypes"
   ]
  },
  {
   "cell_type": "markdown",
   "metadata": {},
   "source": [
    "s = ct.c_char_p(\"Hello World!\")\n",
    "printf(s.value)"
   ]
  },
  {
   "cell_type": "markdown",
   "metadata": {},
   "source": [
    "### Our Case Task\n",
    "\n",
    "A test case python code that\n",
    "- Generates a random configuration of Ar atoms inside a cubic simulation box\n",
    "- Checks the configuration for spatial overlaps between atoms\n",
    "- Reports the total number of overlaps in the system\n",
    "- The program accepts required parameters from the command line.\n",
    "\n",
    "### Python Code outline:\n",
    "\n",
    "Main Code\n",
    "- 3 main sections:\n",
    "    - classes\n",
    "    - functions\n",
    "    - main code\n",
    "- The main code does 5 things\n",
    "    - gets input parameters\n",
    "    - generates random atoms using the parameters\n",
    "    - finds overlaps between atoms\n",
    "    - reports the found overlaps\n",
    "    - reports timings\n",
    "- Timings are our data of interest\n",
    "\n",
    "Functions and Classes\n",
    "- Storage classes with some reporting capabilities\n",
    "- There is a function for each major step\n",
    "- Functions return a storage object for the next step\n",
    "- Final timings are reported by the timing object"
   ]
  },
  {
   "cell_type": "code",
   "execution_count": 68,
   "metadata": {},
   "outputs": [],
   "source": [
    "# === Classes ================================\n",
    "\n",
    "# class timing_type:\n",
    "\n",
    "# class params_type:\n",
    "\n",
    "# class atom_type:\n",
    "\n",
    "# class config_type:\n",
    "\n",
    "# === Functions ==============================\n",
    "\n",
    "# def get_input():\n",
    "#     return params\n",
    "\n",
    "# def gen_config(params):\n",
    "#     return conf\n",
    "\n",
    "# def check_overlaps(conf):\n",
    "#     return overlaps\n",
    "\n",
    "# === Main code ==============================\n",
    "# Read input parameters.\n",
    "\n",
    "# params = get_input()\n",
    "\n",
    "# Generate a configuration of a Number of Ag atoms.\n",
    "\n",
    "# conf = gen_config(params)\n",
    "\n",
    "# Check the configuration for atomic clashes (overlaps).\n",
    "\n",
    "# overlaps = check_overlaps(conf)\n",
    "\n",
    "# Report info on found overlaps here.\n",
    "\n",
    "# timings.report()\n",
    "\n",
    "# === End of code ============================"
   ]
  }
 ],
 "metadata": {
  "kernelspec": {
   "display_name": "Python 3",
   "language": "python",
   "name": "python3"
  },
  "language_info": {
   "codemirror_mode": {
    "name": "ipython",
    "version": 3
   },
   "file_extension": ".py",
   "mimetype": "text/x-python",
   "name": "python",
   "nbconvert_exporter": "python",
   "pygments_lexer": "ipython3",
   "version": "3.6.8"
  }
 },
 "nbformat": 4,
 "nbformat_minor": 2
}
