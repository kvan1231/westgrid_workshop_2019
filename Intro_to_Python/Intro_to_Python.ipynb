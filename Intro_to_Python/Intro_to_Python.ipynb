{
 "cells": [
  {
   "cell_type": "code",
   "execution_count": 130,
   "metadata": {},
   "outputs": [],
   "source": [
    "import random\n",
    "import numpy as np\n",
    "import matplotlib.pyplot as plt"
   ]
  },
  {
   "cell_type": "markdown",
   "metadata": {},
   "source": [
    "Simple examples of python code, showing how to print integers, floats, strings and user input."
   ]
  },
  {
   "cell_type": "code",
   "execution_count": 63,
   "metadata": {},
   "outputs": [
    {
     "name": "stdout",
     "output_type": "stream",
     "text": [
      "5\n"
     ]
    }
   ],
   "source": [
    "# Printing an integer\n",
    "x = 5\n",
    "print(x)"
   ]
  },
  {
   "cell_type": "code",
   "execution_count": 64,
   "metadata": {},
   "outputs": [
    {
     "name": "stdout",
     "output_type": "stream",
     "text": [
      "5.5\n"
     ]
    }
   ],
   "source": [
    "# Printing a float\n",
    "x = 5.5\n",
    "print(x)"
   ]
  },
  {
   "cell_type": "code",
   "execution_count": 65,
   "metadata": {},
   "outputs": [
    {
     "name": "stdout",
     "output_type": "stream",
     "text": [
      "some string\n"
     ]
    }
   ],
   "source": [
    "# Printing a string\n",
    "x = 'some string'\n",
    "print(x)"
   ]
  },
  {
   "cell_type": "code",
   "execution_count": 66,
   "metadata": {},
   "outputs": [
    {
     "name": "stdout",
     "output_type": "stream",
     "text": [
      "Please enter a value 10\n",
      "10\n"
     ]
    }
   ],
   "source": [
    "# Printing user input\n",
    "userVal=input(\"Please enter a value \")\n",
    "print(userVal)"
   ]
  },
  {
   "cell_type": "markdown",
   "metadata": {},
   "source": [
    "You cannot combine different types together, this will trigger an error. The only compatible data types are integer and float as python will convert one type to another. Combining float with integer or float will cause issues."
   ]
  },
  {
   "cell_type": "code",
   "execution_count": 67,
   "metadata": {},
   "outputs": [
    {
     "data": {
      "text/plain": [
       "10.5"
      ]
     },
     "execution_count": 67,
     "metadata": {},
     "output_type": "execute_result"
    }
   ],
   "source": [
    "int(5) + float(5.5)"
   ]
  },
  {
   "cell_type": "code",
   "execution_count": 68,
   "metadata": {},
   "outputs": [
    {
     "ename": "TypeError",
     "evalue": "unsupported operand type(s) for +: 'int' and 'str'",
     "output_type": "error",
     "traceback": [
      "\u001b[0;31m---------------------------------------------------------------------------\u001b[0m",
      "\u001b[0;31mTypeError\u001b[0m                                 Traceback (most recent call last)",
      "\u001b[0;32m<ipython-input-68-6944740d17cd>\u001b[0m in \u001b[0;36m<module>\u001b[0;34m\u001b[0m\n\u001b[0;32m----> 1\u001b[0;31m \u001b[0mint\u001b[0m\u001b[0;34m(\u001b[0m\u001b[0;36m5\u001b[0m\u001b[0;34m)\u001b[0m \u001b[0;34m+\u001b[0m \u001b[0;34m'some string'\u001b[0m\u001b[0;34m\u001b[0m\u001b[0;34m\u001b[0m\u001b[0m\n\u001b[0m",
      "\u001b[0;31mTypeError\u001b[0m: unsupported operand type(s) for +: 'int' and 'str'"
     ]
    }
   ],
   "source": [
    "int(5) + 'some string'"
   ]
  },
  {
   "cell_type": "code",
   "execution_count": 69,
   "metadata": {},
   "outputs": [
    {
     "ename": "TypeError",
     "evalue": "unsupported operand type(s) for +: 'float' and 'str'",
     "output_type": "error",
     "traceback": [
      "\u001b[0;31m---------------------------------------------------------------------------\u001b[0m",
      "\u001b[0;31mTypeError\u001b[0m                                 Traceback (most recent call last)",
      "\u001b[0;32m<ipython-input-69-785b5cd14ddc>\u001b[0m in \u001b[0;36m<module>\u001b[0;34m\u001b[0m\n\u001b[0;32m----> 1\u001b[0;31m \u001b[0mfloat\u001b[0m\u001b[0;34m(\u001b[0m\u001b[0;36m5.5\u001b[0m\u001b[0;34m)\u001b[0m \u001b[0;34m+\u001b[0m \u001b[0;34m'some string'\u001b[0m\u001b[0;34m\u001b[0m\u001b[0;34m\u001b[0m\u001b[0m\n\u001b[0m",
      "\u001b[0;31mTypeError\u001b[0m: unsupported operand type(s) for +: 'float' and 'str'"
     ]
    }
   ],
   "source": [
    "float(5.5) + 'some string'"
   ]
  },
  {
   "cell_type": "markdown",
   "metadata": {},
   "source": [
    "Example: Convert a temperature in celcius to its equivalent in Fahrenheit"
   ]
  },
  {
   "cell_type": "code",
   "execution_count": 70,
   "metadata": {},
   "outputs": [],
   "source": [
    "def Convert_C_to_F(C):\n",
    "    \"\"\"\n",
    "    This code converts a temperature from celcius to fahrenheit\n",
    "    inputs\n",
    "        C: temperature in celcius\n",
    "    outputs\n",
    "        F: temperature in fahrenheit\n",
    "    >>> Convert_C_to_F(10)\n",
    "    50\n",
    "    >>> Convert_C_to_F(0)\n",
    "    32\n",
    "    \"\"\"\n",
    "    # The formula for converting C to F is:\n",
    "    F = (C * 9/5) + 32\n",
    "    \n",
    "    # return the temperature in F\n",
    "    return(F)"
   ]
  },
  {
   "cell_type": "code",
   "execution_count": 71,
   "metadata": {},
   "outputs": [
    {
     "name": "stdout",
     "output_type": "stream",
     "text": [
      "50.0\n"
     ]
    }
   ],
   "source": [
    "# Example conversion from 10C to F, should equal 50F\n",
    "F = Convert_C_to_F(10)\n",
    "print(F)"
   ]
  },
  {
   "cell_type": "markdown",
   "metadata": {},
   "source": [
    "Write a program that calculates the payment amount for a loan by asking user to input amount borrowed, interest rate per year, and number of payments."
   ]
  },
  {
   "cell_type": "code",
   "execution_count": 72,
   "metadata": {},
   "outputs": [],
   "source": [
    "def Periodic_Payment(i, A, N):\n",
    "    \"\"\"\n",
    "    This code will return the payment amount based on the\n",
    "    inputs\n",
    "        i: interest rate\n",
    "        A: amount borrowed\n",
    "        N: number of payments\n",
    "    outputs\n",
    "        PPE: payment amount\n",
    "    \"\"\"\n",
    "    numerator = i * A\n",
    "    denom = 1 - (1 + i)**(-N)\n",
    "    unrounded_PPE = numerator / denom\n",
    "    PPE = round(unrounded_PPE, 2)\n",
    "    return PPE\n"
   ]
  },
  {
   "cell_type": "code",
   "execution_count": 73,
   "metadata": {
    "scrolled": true
   },
   "outputs": [
    {
     "data": {
      "text/plain": [
       "660.0"
      ]
     },
     "execution_count": 73,
     "metadata": {},
     "output_type": "execute_result"
    }
   ],
   "source": [
    "Periodic_Payment(0.5, 1320.00, 36)"
   ]
  },
  {
   "cell_type": "markdown",
   "metadata": {},
   "source": [
    "Booleans and comparison operators"
   ]
  },
  {
   "cell_type": "code",
   "execution_count": 74,
   "metadata": {},
   "outputs": [
    {
     "name": "stdout",
     "output_type": "stream",
     "text": [
      "x is greater than 4\n",
      "y is less than z\n"
     ]
    }
   ],
   "source": [
    "x = 5\n",
    "y = 6\n",
    "z = 7\n",
    "\n",
    "if x > 4:\n",
    "    print(\"x is greater than 4\")\n",
    "    \n",
    "if y < z:\n",
    "    print(\"y is less than z\")\n",
    "    \n",
    "if y == z:\n",
    "    print(\"y is equal to z\")\n",
    "\n",
    "# Other possible comparions\n",
    "# <> not equal to\n",
    "# != not equal to\n",
    "# >= greater than or equal to\n",
    "# <= less than or equal to"
   ]
  },
  {
   "cell_type": "markdown",
   "metadata": {},
   "source": [
    "A software company sells a package for $99. Quantity discounts are given accordint to the following:\n",
    "\n",
    "- 10-19 - 10% discount\n",
    "- 20-49 - 20% discount\n",
    "- 50-99 - 30% discount\n",
    "- 100+ - 40% discount"
   ]
  },
  {
   "cell_type": "code",
   "execution_count": 75,
   "metadata": {},
   "outputs": [],
   "source": [
    "def Bulk_Discount(Amount):\n",
    "    \"\"\"\n",
    "    Calculates a bulk discount based on the size of order placed\n",
    "    - 10-19 - 10% discount\n",
    "    - 20-49 - 20% discount\n",
    "    - 50-99 - 30% discount\n",
    "    - 100+ - 40% discount\n",
    "    \n",
    "    inputs\n",
    "        Amount: the number purchased\n",
    "    output\n",
    "        Cost: The total cost of the purchase\n",
    "    \"\"\"\n",
    "    if Amount >= 100:\n",
    "        discount = 0.4\n",
    "    elif 50 < Amount < 100:\n",
    "        discount = 0.3\n",
    "    elif 20 < Amount < 50:\n",
    "        discount = 0.2\n",
    "    elif 10 < Amount < 20:\n",
    "        discount = 0.1\n",
    "    elif Amount < 10:\n",
    "        discount = 0\n",
    "    #print(discount)\n",
    "    Cost = (99) * Amount * (1 - discount)\n",
    "    return(Cost)"
   ]
  },
  {
   "cell_type": "code",
   "execution_count": 76,
   "metadata": {},
   "outputs": [
    {
     "data": {
      "text/plain": [
       "5940.0"
      ]
     },
     "execution_count": 76,
     "metadata": {},
     "output_type": "execute_result"
    }
   ],
   "source": [
    "Bulk_Discount(100)"
   ]
  },
  {
   "cell_type": "markdown",
   "metadata": {},
   "source": [
    "Repetition"
   ]
  },
  {
   "cell_type": "markdown",
   "metadata": {},
   "source": [
    "Write a program that uses a for loop to detect the values divisible by 2 between 1 and 50"
   ]
  },
  {
   "cell_type": "code",
   "execution_count": 77,
   "metadata": {},
   "outputs": [],
   "source": [
    "def div_2_check(low_lim=0, up_lim=50):\n",
    "    \"\"\"\n",
    "    This program checks if a number between an upper and lower limit is divisible by 2\n",
    "    input\n",
    "        low_lim: lower limit of range to be checked\n",
    "        up_lim: upper limit of range to be checked\n",
    "    \"\"\"\n",
    "    div_by_2 = []\n",
    "    for value in range(low_lim, up_lim):\n",
    "        remainder = value%2\n",
    "        if remainder == 0:\n",
    "            div_by_2.append(value)\n",
    "    return div_by_2"
   ]
  },
  {
   "cell_type": "code",
   "execution_count": 78,
   "metadata": {
    "scrolled": true
   },
   "outputs": [
    {
     "data": {
      "text/plain": [
       "[0,\n",
       " 2,\n",
       " 4,\n",
       " 6,\n",
       " 8,\n",
       " 10,\n",
       " 12,\n",
       " 14,\n",
       " 16,\n",
       " 18,\n",
       " 20,\n",
       " 22,\n",
       " 24,\n",
       " 26,\n",
       " 28,\n",
       " 30,\n",
       " 32,\n",
       " 34,\n",
       " 36,\n",
       " 38,\n",
       " 40,\n",
       " 42,\n",
       " 44,\n",
       " 46,\n",
       " 48]"
      ]
     },
     "execution_count": 78,
     "metadata": {},
     "output_type": "execute_result"
    }
   ],
   "source": [
    "div_2_check()"
   ]
  },
  {
   "cell_type": "markdown",
   "metadata": {},
   "source": [
    "Write a program that takes n grades from a user and then outputs the average of these grades. n should be defined by the user."
   ]
  },
  {
   "cell_type": "code",
   "execution_count": 79,
   "metadata": {},
   "outputs": [],
   "source": [
    "def average_grade(n):\n",
    "    \"\"\"\n",
    "    returns the average grade of n students, the user must enter the grades of students one after another\n",
    "    input\n",
    "        n: number of students\n",
    "    output\n",
    "        average_grade: the average grade of all inputs\n",
    "    \"\"\"\n",
    "    n = int(input_n)\n",
    "    sum_grade = 0\n",
    "    for student in range(n):\n",
    "        input_grade = input(\"Enter student grade: \")\n",
    "        grade = float(input_grade)\n",
    "        sum_grade += grade\n",
    "    average_grade = sum_grade / n\n",
    "    return(average_grade)"
   ]
  },
  {
   "cell_type": "code",
   "execution_count": 80,
   "metadata": {
    "scrolled": true
   },
   "outputs": [
    {
     "name": "stdout",
     "output_type": "stream",
     "text": [
      "Enter student grade: 2\n",
      "Enter student grade: 3\n"
     ]
    },
    {
     "data": {
      "text/plain": [
       "2.5"
      ]
     },
     "execution_count": 80,
     "metadata": {},
     "output_type": "execute_result"
    }
   ],
   "source": [
    "average_grade(2)"
   ]
  },
  {
   "cell_type": "markdown",
   "metadata": {},
   "source": [
    "Lists"
   ]
  },
  {
   "cell_type": "markdown",
   "metadata": {},
   "source": [
    "Write a program that takes n grades in the form of a list from the user then outputs the average of these grades."
   ]
  },
  {
   "cell_type": "code",
   "execution_count": 98,
   "metadata": {},
   "outputs": [],
   "source": [
    "def average_grade_list(grade_list):\n",
    "    n = int(len(grade_list))\n",
    "    grade_sum = sum(grade_list)\n",
    "    average_grade = grade_sum / n\n",
    "    return(round(average_grade, 2))"
   ]
  },
  {
   "cell_type": "code",
   "execution_count": 143,
   "metadata": {},
   "outputs": [
    {
     "data": {
      "text/plain": [
       "50.0"
      ]
     },
     "execution_count": 143,
     "metadata": {},
     "output_type": "execute_result"
    }
   ],
   "source": [
    "sigma = 0.1\n",
    "mu = 50\n",
    "random_grades = np.random.normal(50,0.1,10000)\n",
    "#print(random_grades)\n",
    "average_grade_list(random_grades)"
   ]
  },
  {
   "cell_type": "code",
   "execution_count": 144,
   "metadata": {},
   "outputs": [
    {
     "data": {
      "image/png": "[encoded data removed]",
      "text/plain": [
       "<Figure size 432x288 with 1 Axes>"
      ]
     },
     "metadata": {
      "needs_background": "light"
     },
     "output_type": "display_data"
    }
   ],
   "source": [
    "# plotting the random grades just for fun\n",
    "n_bins = 50\n",
    "n, bins, patches = plt.hist(random_grades, n_bins, density=True)\n",
    "plt.plot(bins, 1/(sigma * np.sqrt(2 * np.pi)) *\n",
    "         np.exp( - (bins - mu)**2 / (2 * sigma**2) ),\n",
    "         linewidth=2, color='r')\n",
    "plt.show()"
   ]
  },
  {
   "cell_type": "markdown",
   "metadata": {},
   "source": [
    "Functions!"
   ]
  },
  {
   "cell_type": "markdown",
   "metadata": {},
   "source": [
    "The programs we have written are already functions, try running some of them down here"
   ]
  },
  {
   "cell_type": "code",
   "execution_count": 164,
   "metadata": {},
   "outputs": [],
   "source": [
    "def average_grade_plotter(num_students):\n",
    "#     num_students = 10\n",
    "    sigma = 0.1\n",
    "    mu = 50\n",
    "    random_grades = np.random.normal(mu, sigma, num_students)\n",
    "    average_output = average_grade_list(random_grades)\n",
    "\n",
    "    vertical_line = np.linspace(0, 5, 10)\n",
    "    random_grade_line = average_output * np.ones(len(vertical_line))\n",
    "\n",
    "    # print(vertical_line)\n",
    "    # print(random_grade_line)\n",
    "\n",
    "    n_bins = 50\n",
    "    n, bins, patches = plt.hist(random_grades, n_bins, density=True)\n",
    "    plt.plot(bins, 1/(sigma * np.sqrt(2 * np.pi)) *\n",
    "             np.exp( - (bins - mu)**2 / (2 * sigma**2) ),\n",
    "             linewidth=2, color='k')\n",
    "    plt.plot(random_grade_line, vertical_line, 'r')\n",
    "    plt.plot()"
   ]
  },
  {
   "cell_type": "code",
   "execution_count": 166,
   "metadata": {},
   "outputs": [
    {
     "data": {
      "image/png": "[encoded data removed]",
      "text/plain": [
       "<Figure size 432x288 with 1 Axes>"
      ]
     },
     "metadata": {
      "needs_background": "light"
     },
     "output_type": "display_data"
    }
   ],
   "source": [
    "average_grade_plotter(100000)"
   ]
  }
 ],
 "metadata": {
  "kernelspec": {
   "display_name": "Python 3",
   "language": "python",
   "name": "python3"
  },
  "language_info": {
   "codemirror_mode": {
    "name": "ipython",
    "version": 3
   },
   "file_extension": ".py",
   "mimetype": "text/x-python",
   "name": "python",
   "nbconvert_exporter": "python",
   "pygments_lexer": "ipython3",
   "version": "3.6.8"
  }
 },
 "nbformat": 4,
 "nbformat_minor": 2
}
