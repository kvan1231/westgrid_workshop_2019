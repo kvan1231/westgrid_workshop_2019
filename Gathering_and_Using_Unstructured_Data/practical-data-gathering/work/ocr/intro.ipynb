{
 "cells": [
  {
   "cell_type": "markdown",
   "metadata": {},
   "source": [
    "# Introduction\n",
    "\n",
    "OCR (Optical Character Recognition) is a class of computer-vision algorithms that seek to recognize text within images.\n",
    "\n",
    "In a real-world scenario the OCR part of a document analysis pipeline is quite small, the overall pipeline consists of ton of other things to consider:\n",
    "\n",
    "* Preprocessing (Image cleaning): This can make or break your application, it is crucial to the functioning of such a system.\n",
    "\n",
    "* Classification: Your system will likely deal with extraneaous pages you need a way to filter these and hone in on the information you need.\n",
    "\n",
    "* Structure Segmentation: If you deal with complex documents you may need to recognize the structure (header, tables, body of text etc..) to refine your extraction efforts.\n",
    "\n",
    "* OCR (Recognize the text): This can also involve extracting metadata (bounding boxes etc..)\n",
    "\n",
    "* Postprocessing (Text Cleaning): Like any other model, OCR models make mistakes, these need to be corrected in post processing.\n",
    "\n",
    "* Reconstruction: If you need structured data out of your system, you'll need to restructure it (tables for example)\n",
    "\n",
    "* Information Retrieval: Getting the information you want out of the document (text search, regex, or more complicated NLP modelling)\n",
    "\n",
    "## Purpose of the Intro\n",
    "\n",
    "This introduction differs from the others in the sense it is just a list of problems that would need to be solved in a real world application, with some short demos with the tesseract OCR Engine\n",
    "\n",
    "https://github.com/tesseract-ocr/\n",
    "\n",
    "## Document Examples\n",
    "\n",
    "The documents presented here are a very small sample of the Tobacco3482 dataset:\n",
    "\n",
    "https://lampsrv02.umiacs.umd.edu/projdb/project.php?id=72\n",
    "\n",
    "This dataset is a sample of larger set, which is itself a sample of an even larger set of documents from legal proceedings toward the tobacco industry."
   ]
  },
  {
   "cell_type": "code",
   "execution_count": null,
   "metadata": {},
   "outputs": [],
   "source": [
    "from PIL import Image\n",
    "import os\n",
    "import pytesseract\n",
    "import pandas as pd\n",
    "import numpy as np\n",
    "import preprocess"
   ]
  },
  {
   "cell_type": "code",
   "execution_count": null,
   "metadata": {},
   "outputs": [],
   "source": [
    "def demo_ocr(directory):\n",
    "    filenames = [x for x in os.listdir(directory) if x.endswith('tif')]\n",
    "    \n",
    "    for fn in filenames:\n",
    "        pilimg = Image.open(os.path.join(directory,fn))\n",
    "        \n",
    "        text = pytesseract.image_to_string(pilimg)\n",
    "        display(pilimg)\n",
    "        print(text)\n",
    "        \n",
    "        cont = input('Clean and rerun?(y or n)')\n",
    "        \n",
    "        if cont not in ['y']:\n",
    "            pass\n",
    "        else:\n",
    "            pilimg = preprocess.clean(pilimg) \n",
    "            text = pytesseract.image_to_string(pilimg)\n",
    "            display(pilimg)\n",
    "            print(text)\n",
    "            \n",
    "        \n",
    "            \n",
    "    return 0"
   ]
  },
  {
   "cell_type": "code",
   "execution_count": null,
   "metadata": {},
   "outputs": [],
   "source": [
    "demo_ocr('images/real-world')"
   ]
  }
 ],
 "metadata": {
  "kernelspec": {
   "display_name": "Python 3",
   "language": "python",
   "name": "python3"
  },
  "language_info": {
   "codemirror_mode": {
    "name": "ipython",
    "version": 3
   },
   "file_extension": ".py",
   "mimetype": "text/x-python",
   "name": "python",
   "nbconvert_exporter": "python",
   "pygments_lexer": "ipython3",
   "version": "3.6.7"
  }
 },
 "nbformat": 4,
 "nbformat_minor": 2
}
