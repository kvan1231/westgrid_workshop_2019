{
 "cells": [
  {
   "cell_type": "code",
   "execution_count": null,
   "metadata": {},
   "outputs": [],
   "source": [
    "import pandas as pd\n",
    "import os\n",
    "import numpy as np"
   ]
  },
  {
   "cell_type": "code",
   "execution_count": null,
   "metadata": {},
   "outputs": [],
   "source": [
    "from PIL import Image, ImageDraw, ImageFont\n",
    "import textwrap\n",
    "\n",
    "def draw_multiple_line_text(image, text, font, text_color, text_start_height):\n",
    "    '''\n",
    "    From unutbu on [python PIL draw multiline text on image](https://stackoverflow.com/a/7698300/395857)\n",
    "    '''\n",
    "    draw = ImageDraw.Draw(image)\n",
    "    image_width, image_height = image.size\n",
    "    y_text = text_start_height\n",
    "    lines = textwrap.wrap(text, width=30)\n",
    "    for line in lines:\n",
    "        line_width, line_height = font.getsize(line)\n",
    "        draw.text(((image_width - line_width) / 2, y_text), \n",
    "                  line, font=font, fill=text_color)\n",
    "        y_text += line_height\n",
    "        \n",
    "\n",
    "def create_image(text,width,path,random_orient = False):\n",
    "    '''\n",
    "    Testing draw_multiple_line_text\n",
    "    '''\n",
    "    fontsize = 40  # starting font size\n",
    "    font = ImageFont.truetype(\"/usr/share/fonts/truetype/dejavu/DejaVuSerif.ttf\", fontsize)\n",
    "    \n",
    "    lines = textwrap.wrap(text, width=width)\n",
    "    widths,heights = zip(*[font.getsize(line) for line in lines])\n",
    "    \n",
    "    W = int(1.2*max(widths))\n",
    "    H = int(sum(heights) + 2*fontsize)\n",
    "    \n",
    "    \n",
    "    \n",
    "    \n",
    "    #image_width\n",
    "    image = Image.new('RGB', (W, H), color = (255, 255, 255))\n",
    "\n",
    "    text_color = (0, 0, 0)\n",
    "    text_start_height = fontsize\n",
    "    draw_multiple_line_text(image, text, font, text_color, text_start_height)\n",
    "    \n",
    "    if random_orient:\n",
    "        orient = np.random.choice([0,90,180,270])\n",
    "        image = image.rotate(orient,expand=True)\n",
    "    \n",
    "    image.save(path)\n",
    "    \n",
    "    return 0\n"
   ]
  },
  {
   "cell_type": "code",
   "execution_count": null,
   "metadata": {},
   "outputs": [],
   "source": [
    "# np.random.seed(0)\n",
    "\n",
    "# df = pd.read_csv('full_original_dataset.csv')\n",
    "\n",
    "# msk = np.random.rand(len(df)) < 0.8\n",
    "\n",
    "# train = df[msk]\n",
    "\n",
    "# train.to_csv('train.csv',index=False)\n",
    "\n",
    "# test = df[~msk]\n",
    "\n",
    "# test.to_csv('test.csv',index=False)\n",
    "\n",
    "test = pd.read_csv('test.csv')\n",
    "\n"
   ]
  },
  {
   "cell_type": "code",
   "execution_count": null,
   "metadata": {},
   "outputs": [],
   "source": [
    "classes = ['HPL','EAP','MWS']\n",
    "\n",
    "folder = 'test-set-sample'\n",
    "\n",
    "if not os.path.exists(folder):\n",
    "    os.mkdir(folder)\n",
    "\n",
    "for c in classes:\n",
    "    sample = test[test.author == c].sample(n=20,random_state=0)\n",
    "\n",
    "    for row in sample.iterrows():\n",
    "        data = row[1]\n",
    "\n",
    "        author = data.author\n",
    "        uid = data.id\n",
    "        text = data.text\n",
    "\n",
    "        path = os.path.join(folder,uid+'.png')\n",
    "\n",
    "        create_image(text,30,path,random_orient=True)\n"
   ]
  }
 ],
 "metadata": {
  "kernelspec": {
   "display_name": "Python 3",
   "language": "python",
   "name": "python3"
  },
  "language_info": {
   "codemirror_mode": {
    "name": "ipython",
    "version": 3
   },
   "file_extension": ".py",
   "mimetype": "text/x-python",
   "name": "python",
   "nbconvert_exporter": "python",
   "pygments_lexer": "ipython3",
   "version": "3.6.7"
  }
 },
 "nbformat": 4,
 "nbformat_minor": 2
}
