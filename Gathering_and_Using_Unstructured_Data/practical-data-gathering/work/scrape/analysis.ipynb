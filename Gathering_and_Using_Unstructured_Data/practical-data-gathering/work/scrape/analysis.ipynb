{
 "cells": [
  {
   "cell_type": "markdown",
   "metadata": {},
   "source": [
    "# Overview\n",
    "* We seek to find the most likely winner of a selected playoff bracket given historical data.\n",
    "* If we assume that teams are the primary driver, and that games between teams are bernoulli trials, then we can simulate the entire bracket with a Monte Carlo simulation\n",
    "* This entails defining the individual probablities of a win given the two teams involved\n",
    "    * Practically this means creating a matrix s.t.:\n",
    "    \n",
    "    $P_{ij} = P(i,j) =$ probability of team i beating team j\n",
    "    \n",
    "    Note this naturally leads to $P_{ij} = 1 - P_{ji}$\n",
    "    \n",
    "    \n",
    "* So given the data we gathered previously how can we calculate such a matrix? and how do we setup such a montecarlo simulation."
   ]
  },
  {
   "cell_type": "code",
   "execution_count": null,
   "metadata": {},
   "outputs": [],
   "source": [
    "import numpy as np\n",
    "import pandas as pd\n",
    "import json\n",
    "from scipy import stats\n",
    "\n",
    "from bracket_utils import simulate,trial\n",
    "from generate_probabilities import gen_prob"
   ]
  },
  {
   "cell_type": "code",
   "execution_count": null,
   "metadata": {},
   "outputs": [],
   "source": [
    "def define_seasons(years, playoff_years):\n",
    "    seasons = []\n",
    "    for year in years:\n",
    "        seasons.append(pd.read_csv(f'data/{year}/regular.csv'))\n",
    "        \n",
    "    for year in playoff_years:\n",
    "        seasons.append(pd.read_csv(f'data/{year}/playoffs.csv'))\n",
    "        \n",
    "    return seasons"
   ]
  },
  {
   "cell_type": "code",
   "execution_count": null,
   "metadata": {},
   "outputs": [],
   "source": [
    "prediction_year = 2018\n",
    "\n",
    "# only include four years of data\n",
    "\n",
    "reg_included = list(range(prediction_year-3,prediction_year+1))\n",
    "\n",
    "poffs_included = [] #[2014,2015,2016,2017,2018]\n",
    "\n",
    "assert prediction_year not in poffs_included, \"Included playoff data from prediction year!\"\n",
    "\n",
    "seasons = define_seasons(reg_included,poffs_included)\n",
    "\n",
    "with open(f'data/{prediction_year}/bracket.json','r') as f:\n",
    "    bracket = json.load(f)"
   ]
  },
  {
   "cell_type": "code",
   "execution_count": null,
   "metadata": {},
   "outputs": [],
   "source": [
    "pmat = gen_prob(bracket,seasons)\n",
    "\n",
    "num_trials = 100000\n",
    "\n",
    "np.random.seed(0)\n",
    "\n",
    "_,winners,_ = simulate(num_trials,pmat)"
   ]
  },
  {
   "cell_type": "code",
   "execution_count": null,
   "metadata": {},
   "outputs": [],
   "source": [
    "indicies, counts = np.unique(winners, return_counts=True)\n",
    "\n",
    "results = [(c,bracket['first_round'][i]) for c,i in sorted(zip(counts,indicies),reverse = True)]\n",
    "print('{:-^60}'.format('WINNER PREDICTION'))\n",
    "print('{team:32s}{prob:8s}{cumul:8s}'.format(team='team',prob='prob',cumul='cumsum'))\n",
    "\n",
    "cumulative = 0\n",
    "for count,team in results:\n",
    "    prob = count/num_trials\n",
    "    cumulative += prob\n",
    "    \n",
    "    actual = ''\n",
    "    if bracket['winner'] and team == bracket['winner'][0]:\n",
    "        actual = 'ACTUAL WINNER'\n",
    "    \n",
    "    print('{team:30s}{prob:8.4f}{cumul:8.4f}  {actual:15s}'.format(team=team,prob=prob,cumul=cumulative,actual=actual))"
   ]
  }
 ],
 "metadata": {
  "kernelspec": {
   "display_name": "Python 3",
   "language": "python",
   "name": "python3"
  },
  "language_info": {
   "codemirror_mode": {
    "name": "ipython",
    "version": 3
   },
   "file_extension": ".py",
   "mimetype": "text/x-python",
   "name": "python",
   "nbconvert_exporter": "python",
   "pygments_lexer": "ipython3",
   "version": "3.6.7"
  }
 },
 "nbformat": 4,
 "nbformat_minor": 2
}
