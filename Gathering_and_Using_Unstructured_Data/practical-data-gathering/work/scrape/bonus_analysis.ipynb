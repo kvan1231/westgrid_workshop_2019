{
 "cells": [
  {
   "cell_type": "markdown",
   "metadata": {},
   "source": [
    "# Bonus Analysis\n",
    "\n",
    "1) We seek to find the most common bracket, as opposed to the most common winner.\n",
    "\n",
    "2) We seek to generate a list of top contenders to select a hockey pool with! "
   ]
  },
  {
   "cell_type": "code",
   "execution_count": null,
   "metadata": {},
   "outputs": [],
   "source": [
    "import numpy as np\n",
    "import pandas as pd\n",
    "import json\n",
    "from scipy import stats\n",
    "\n",
    "from bracket_utils import simulate,trial\n",
    "from generate_probabilities import gen_prob"
   ]
  },
  {
   "cell_type": "code",
   "execution_count": null,
   "metadata": {},
   "outputs": [],
   "source": [
    "def define_seasons(years, playoff_years):\n",
    "    seasons = []\n",
    "    for year in years:\n",
    "        seasons.append(pd.read_csv(f'data/{year}/regular.csv'))\n",
    "        \n",
    "    for year in playoff_years:\n",
    "        seasons.append(pd.read_csv(f'data/{year}/playoffs.csv'))\n",
    "        \n",
    "    return seasons"
   ]
  },
  {
   "cell_type": "code",
   "execution_count": null,
   "metadata": {},
   "outputs": [],
   "source": [
    "prediction_year = 2019\n",
    "\n",
    "# only include 4 years of data\n",
    "\n",
    "reg_included = list(range(prediction_year-3,prediction_year+1))\n",
    "\n",
    "poffs_included = [] #[2014,2015,2016,2017,2018]\n",
    "\n",
    "assert prediction_year not in poffs_included, \"Included playoff data from prediction year!\"\n",
    "\n",
    "seasons = define_seasons(reg_included,poffs_included)\n",
    "\n",
    "with open(f'data/{prediction_year}/bracket.json','r') as f:\n",
    "    bracket = json.load(f)"
   ]
  },
  {
   "cell_type": "code",
   "execution_count": null,
   "metadata": {},
   "outputs": [],
   "source": [
    "pmat = gen_prob(bracket,seasons)\n",
    "\n",
    "num_trials = 100000\n",
    "\n",
    "np.random.seed(0)\n",
    "\n",
    "TGP,winners,rnds = simulate(num_trials,pmat,include_rounds=True)"
   ]
  },
  {
   "cell_type": "markdown",
   "metadata": {},
   "source": [
    "## Most Common Bracket\n",
    "\n",
    "* If we retain the round results for every trial then we can count the most common bracket!\n",
    "* In this case it turns out even the most common bracket is vanishingly unlikely, so this isn't a money maker!"
   ]
  },
  {
   "cell_type": "code",
   "execution_count": null,
   "metadata": {},
   "outputs": [],
   "source": [
    "signatures = [''.join([str(int(x)) for x in rnd.flatten()]) for rnd in rnds]\n",
    "el,count = stats.mode(signatures)\n",
    "idx = signatures.index(el[0])\n",
    "arr = rnds[idx].T\n",
    "\n",
    "rounds = []\n",
    "for col in arr:\n",
    "    rounds.append([int(el) for el in col if el >= 0])\n",
    "    \n",
    "print(f\"Probability of most common bracket: {count[0]}/{num_trials} ~ {count[0]/num_trials}\")"
   ]
  },
  {
   "cell_type": "code",
   "execution_count": null,
   "metadata": {},
   "outputs": [],
   "source": [
    "import networkx as nx\n",
    "import io\n",
    "import pygraphviz\n",
    "from networkx.drawing.nx_agraph import write_dot, graphviz_layout\n",
    "from PIL import Image\n",
    "\n",
    "teams = bracket['first_round']\n",
    "\n",
    "G = nx.DiGraph()\n",
    "\n",
    "for i in range(len(rounds)-1,-1,-1):\n",
    "    M = len(rounds[i])\n",
    "    for j in range(M):\n",
    "        idx = int(rounds[i][j])\n",
    "        \n",
    "        if idx >= 0:\n",
    "            G.add_node(teams[idx]+f'(R{i})')\n",
    "\n",
    "            if i < len(rounds)-1:\n",
    "                parent = int(np.floor(j/2.0))\n",
    "                G.add_edge(teams[idx]+f'(R{i})',teams[int(rounds[i+1][parent])]+f'(R{i+1})')\n",
    "\n",
    "            \n",
    "\n",
    "A = nx.nx_agraph.to_agraph(G)\n",
    "A.graph_attr.update(landscape='false',ranksep='3',strict='false')\n",
    "\n",
    "\n",
    "# Possible layouts [‘neato’|’dot’|’twopi’|’circo’|’fdp’|’nop’] WARNING: nop and fdp might crash the container.\n",
    "A.layout('twopi', args='-Nfontsize=8 -Nwidth=\".2\" -Nheight=\".2\" -Nmargin=0 -Gfontsize=6 -Goverlap=True')\n",
    "A.draw('bracket.png')\n",
    "im = Image.open('bracket.png')\n",
    "display(im)"
   ]
  },
  {
   "cell_type": "markdown",
   "metadata": {},
   "source": [
    "## Hockey pool picks\n",
    "\n",
    "* Via the monte carlo we are able to estimate the expected games played for a given team.\n",
    "* If we assume that the expected games played and the expected points per game for a player are independent (rough assumption)\n",
    "* Then we can define the expected points over the playoffs!\n",
    "\n",
    "## E[Points] = E[(Points per game)(Games Played)] = E[(Points per game)]E[(Games Played)]\n",
    "\n",
    "* Given this metric we can then rank players accordingly and make our picks for the pool!"
   ]
  },
  {
   "cell_type": "markdown",
   "metadata": {},
   "source": [
    "### Define Player Type\n",
    "\n",
    "* We've pre gathered this data via another python package, but you can gather it in a similar fashion as the prior datasets."
   ]
  },
  {
   "cell_type": "code",
   "execution_count": null,
   "metadata": {},
   "outputs": [],
   "source": [
    "player_type = 'defense'\n",
    "#player_type = 'goalie'\n",
    "#player_type = 'forward'"
   ]
  },
  {
   "cell_type": "code",
   "execution_count": null,
   "metadata": {},
   "outputs": [],
   "source": [
    "expected_games_played = np.mean(TGP,axis=0)"
   ]
  },
  {
   "cell_type": "code",
   "execution_count": null,
   "metadata": {},
   "outputs": [],
   "source": [
    "expected_games_played = np.mean(TGP,axis=0)\n",
    "team_data = pd.DataFrame(data ={'team_full':bracket['first_round'],'EGP':expected_games_played})\n",
    "player_data = pd.read_csv(f'data/players/df_{player_type}_final.csv')\n",
    "\n",
    "df = team_data.merge(player_data,how='left',on=['team_full'])"
   ]
  },
  {
   "cell_type": "code",
   "execution_count": null,
   "metadata": {},
   "outputs": [],
   "source": [
    "df['expected_points'] = df['EGP']*df['prob_pts']"
   ]
  },
  {
   "cell_type": "code",
   "execution_count": null,
   "metadata": {},
   "outputs": [],
   "source": [
    "with pd.option_context('display.max_rows',500):\n",
    "    display(df.sort_values('expected_points',ascending=False))"
   ]
  }
 ],
 "metadata": {
  "kernelspec": {
   "display_name": "Python 3",
   "language": "python",
   "name": "python3"
  },
  "language_info": {
   "codemirror_mode": {
    "name": "ipython",
    "version": 3
   },
   "file_extension": ".py",
   "mimetype": "text/x-python",
   "name": "python",
   "nbconvert_exporter": "python",
   "pygments_lexer": "ipython3",
   "version": "3.6.7"
  }
 },
 "nbformat": 4,
 "nbformat_minor": 2
}
