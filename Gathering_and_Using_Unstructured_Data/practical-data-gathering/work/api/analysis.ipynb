{
 "cells": [
  {
   "cell_type": "markdown",
   "metadata": {},
   "source": [
    "# Modelling the bracket\n",
    "\n",
    "* Now that we have our clean dataset we can model our bracket!\n",
    "\n",
    "* We have the true results stored in the data folder so if you want to cheat go look there first!\n",
    "\n",
    "* Our goal is to assign a \"score\" to each cartoon based on human intution, although we could take a bayesian approach if we wanted.\n",
    "\n",
    "* We then use that score to \"simulate\" the bracket, in each face-off the higher score wins.\n",
    "\n"
   ]
  },
  {
   "cell_type": "markdown",
   "metadata": {},
   "source": [
    "## Imports and loading data"
   ]
  },
  {
   "cell_type": "code",
   "execution_count": null,
   "metadata": {},
   "outputs": [],
   "source": [
    "import pandas as pd\n",
    "import numpy as np\n",
    "import time\n",
    "import sys\n",
    "import json"
   ]
  },
  {
   "cell_type": "code",
   "execution_count": null,
   "metadata": {},
   "outputs": [],
   "source": [
    "#df = pd.read_csv('data/my_cartoons_filled.csv')\n",
    "df = pd.read_csv('data/original/cartoons_filled.csv')"
   ]
  },
  {
   "cell_type": "markdown",
   "metadata": {},
   "source": [
    "## Helper function for testing results"
   ]
  },
  {
   "cell_type": "markdown",
   "metadata": {},
   "source": [
    "## Parameters for model\n",
    "We define a piecewise linear model for the \"score\" of the form:\n",
    "\n",
    "$S = R + f(N) + w_yI(y<y_0) + (w_V V)/s_V$\n",
    "\n",
    "More plainly:\n",
    "\n",
    "Score = Rating + f(Number of Seasons) + (Over-the-hill-weight)*(Indicator if show aired before specified year) + (vote weight * votes)/vote scale\n",
    "\n",
    "where f is a piecewise constant function that assigns a value to each (increasing with increasing seasons)\n",
    "\n"
   ]
  },
  {
   "cell_type": "code",
   "execution_count": null,
   "metadata": {},
   "outputs": [],
   "source": [
    "oth = 1979\n",
    "\n",
    "def weight_seasons(num_seasons):\n",
    "    if num_seasons < 5:\n",
    "        return 0.5\n",
    "    elif num_seasons >= 5 and num_seasons < 10:\n",
    "        return 1.0\n",
    "    elif num_seasons >= 10:\n",
    "        return 1.5\n",
    "    else:\n",
    "        return 0.10\n",
    "    \n",
    "\n",
    "w_oth = -0.5\n",
    "\n",
    "w_votes = 0.25\n",
    "\n",
    "scale_votes = 400000.0\n",
    "    \n",
    "    "
   ]
  },
  {
   "cell_type": "code",
   "execution_count": null,
   "metadata": {},
   "outputs": [],
   "source": [
    "df['over_the_hill'] = df['year'] < oth\n",
    "\n",
    "df['seasons_weight'] = df['seasons'].apply(weight_seasons)\n",
    "\n",
    "\n",
    "df['score'] =(df['rating'] \n",
    "              + df['seasons_weight'] \n",
    "              + w_oth*df['over_the_hill'] \n",
    "              + w_votes*(df['votes']/scale_votes)\n",
    "             )"
   ]
  },
  {
   "cell_type": "code",
   "execution_count": null,
   "metadata": {},
   "outputs": [],
   "source": [
    "titles = df['title'].tolist()\n",
    "scores = df['score'].tolist()"
   ]
  },
  {
   "cell_type": "markdown",
   "metadata": {},
   "source": [
    "## Simulating the bracket\n",
    "\n",
    "* We stack every show in order of their face offs (Imagine taking the bracket and stacking the \"east\" and \"west\" sides).\n",
    "* Taking the top two shows on this stack we compute the result of that faceoff and stick the winner on the bottom\n",
    "* We repeat this process until there is only one winner left, storing the results every time the length halves"
   ]
  },
  {
   "cell_type": "code",
   "execution_count": null,
   "metadata": {},
   "outputs": [],
   "source": [
    "def create_bracket(titles,scores):\n",
    "    assert len(titles) == len(scores), 'score and title length mismatch!'\n",
    "    assert len(titles)%2 == 0, 'uneven bracket!'\n",
    "    \n",
    "    tuples = list(zip(titles,scores))\n",
    "    \n",
    "    N = len(tuples)\n",
    "\n",
    "    temp = []\n",
    "    \n",
    "    rounds = [tuples.copy()]\n",
    "    \n",
    "    while len(tuples) > 1:\n",
    "        \n",
    "        toon1 = tuples.pop(0)\n",
    "        toon2 = tuples.pop(0)\n",
    "        \n",
    "        if toon1[1] > toon2[1]:\n",
    "            tuples.append(toon1)\n",
    "            print(f'{toon1[0]} over {toon2[0]}')\n",
    "            \n",
    "        else:\n",
    "            tuples.append(toon2)\n",
    "            print(f'{toon2[0]} over {toon1[0]}')\n",
    "            \n",
    "        if len(tuples) == N//2:\n",
    "            print('Round Over')\n",
    "            rounds.append(tuples.copy())\n",
    "            N = len(tuples)\n",
    "            \n",
    "        \n",
    "    \n",
    "    return rounds, tuples\n",
    "    \n",
    "    "
   ]
  },
  {
   "cell_type": "markdown",
   "metadata": {},
   "source": [
    "## View Results"
   ]
  },
  {
   "cell_type": "code",
   "execution_count": null,
   "metadata": {},
   "outputs": [],
   "source": [
    "rounds, tuples = create_bracket(titles,scores)"
   ]
  },
  {
   "cell_type": "code",
   "execution_count": null,
   "metadata": {},
   "outputs": [],
   "source": [
    "rounds"
   ]
  },
  {
   "cell_type": "markdown",
   "metadata": {},
   "source": [
    "## Visualize Results\n",
    "* Taking advantage of a graph visualization library we can visualize the bracket as a DAG (directed acyclic graph)\n",
    "* play with the layout function to see what kinds of other shapes you can get (I don't have the skills to replicate the bracket structure here)."
   ]
  },
  {
   "cell_type": "code",
   "execution_count": null,
   "metadata": {},
   "outputs": [],
   "source": [
    "import networkx as nx\n",
    "import io\n",
    "import pygraphviz\n",
    "from networkx.drawing.nx_agraph import write_dot, graphviz_layout\n",
    "from PIL import Image\n",
    "G = nx.DiGraph()\n",
    "\n",
    "\n",
    "left_graphs = []\n",
    "right_graphs = []\n",
    "\n",
    "# for i in range(len(rounds)-2):\n",
    "#     left = [x[0]+f'(R{i})' for x in rounds[i][len(rounds[i])//2:]]\n",
    "#     right = [x[0]+f'(R{i})' for x in rounds[i][:len(rounds[i])//2]]\n",
    "    \n",
    "#     left_graphs.append(left)\n",
    "#     right_graphs.append(right)\n",
    "    \n",
    "# center = [[rounds[len(rounds)-1][0][0]+f'(R{len(rounds)-1})']]\n",
    "\n",
    "# subgraphs = left_graphs + center + list(reversed(right_graphs))\n",
    "\n",
    "# for k,sg in enumerate(subgraphs):\n",
    "#     for n in sg:\n",
    "#         G.add_node(n,y=0)\n",
    "\n",
    "for i in range(len(rounds)-1,-1,-1):\n",
    "    M = len(rounds[i])\n",
    "    for j in range(M):\n",
    "        G.add_node(rounds[i][j][0]+f'(R{i})')\n",
    "        \n",
    "        if i < len(rounds)-1:\n",
    "            parent = int(np.floor(j/2.0))\n",
    "            G.add_edge(rounds[i][j][0]+f'(R{i})',rounds[i+1][parent][0]+f'(R{i+1})')\n",
    "\n",
    "            \n",
    "\n",
    "        \n",
    "\n",
    "A = nx.nx_agraph.to_agraph(G)\n",
    "A.graph_attr.update(landscape='false',ranksep='3',strict='false')\n",
    "\n",
    "# for i,sg in enumerate(subgraphs):\n",
    "#     A.add_subgraph(sg,rank=i)\n",
    "\n",
    "# Possible layouts [‘neato’|’dot’|’twopi’|’circo’|’fdp’|’nop’] WARNING: nop and fdp might crash the container.\n",
    "A.layout('twopi', args='-Nfontsize=8 -Nwidth=\".2\" -Nheight=\".2\" -Nmargin=0 -Gfontsize=6 -Goverlap=True')\n",
    "A.draw('bracket.png')\n",
    "im = Image.open('bracket.png')\n",
    "display(im)"
   ]
  },
  {
   "cell_type": "markdown",
   "metadata": {},
   "source": [
    "## Checking our accuracy\n",
    "* we calculate the accuracy by checking each bracket slot and seeing if we were right, then divide by the total number of bracket slots \n",
    "    * can you find a closed form solution for the number of slots an arbitrary bracket of size N s.t. mod(N,2) == 0?"
   ]
  },
  {
   "cell_type": "code",
   "execution_count": null,
   "metadata": {},
   "outputs": [],
   "source": [
    "with open('data/original/ground_truth.json') as f:\n",
    "    true_rounds = json.load(f)['rounds']\n",
    "\n",
    "def get_accuracy(predict,truth):\n",
    "    assert len(predict) == len(truth), 'truth and predict length mismatch!'\n",
    "    N = len(predict)\n",
    "    \n",
    "    total = 0\n",
    "    correct = 0\n",
    "    \n",
    "    for i in range(N):\n",
    "        true_rnd = [x[0] for x in truth[i]]\n",
    "        predict_rnd = [x[0] for x in predict[i]]\n",
    "        \n",
    "        for t,p in zip(true_rnd,predict_rnd):\n",
    "            if t == p:\n",
    "                correct += 1\n",
    "            total += 1\n",
    "    \n",
    "    return correct/float(total)\n",
    "        "
   ]
  },
  {
   "cell_type": "code",
   "execution_count": null,
   "metadata": {},
   "outputs": [],
   "source": [
    "print(f'Bracket Accuracy: {get_accuracy(rounds,true_rounds)}')"
   ]
  }
 ],
 "metadata": {
  "kernelspec": {
   "display_name": "Python 3",
   "language": "python",
   "name": "python3"
  },
  "language_info": {
   "codemirror_mode": {
    "name": "ipython",
    "version": 3
   },
   "file_extension": ".py",
   "mimetype": "text/x-python",
   "name": "python",
   "nbconvert_exporter": "python",
   "pygments_lexer": "ipython3",
   "version": "3.6.7"
  }
 },
 "nbformat": 4,
 "nbformat_minor": 2
}
