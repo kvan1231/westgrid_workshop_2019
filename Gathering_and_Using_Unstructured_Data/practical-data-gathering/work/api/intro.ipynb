{
 "cells": [
  {
   "cell_type": "code",
   "execution_count": null,
   "metadata": {},
   "outputs": [],
   "source": [
    "import requests\n",
    "import json\n",
    "import matplotlib.pyplot as plt\n",
    "from dateutil import parser\n",
    "import datetime"
   ]
  },
  {
   "cell_type": "markdown",
   "metadata": {},
   "source": [
    "# API (Application Programming Interface) Intro\n",
    "\n",
    "There are two basic ways of accessing data via APIs\n",
    "* Using raw HTTP requests\n",
    "* Using client library (essentially just abstracts away the http requests and parsing)\n",
    "\n",
    "Considerations:\n",
    "* We take advantage of free open APIs here, typically you'd need to authenticate for API usage (at least the more valuable ones).\n",
    "* Some APIs have \"discovery documents\" associated with them, this allows you to understand how data is fetched and organized.\n",
    "\n",
    "If you'd like to learn about authenticating here is a few good starting apis:\n",
    "* (Twitter) https://developer.twitter.com/en/docs/developer-utilities/twitter-libraries.html\n",
    "* (Open weather Map) https://openweathermap.org/api\n",
    "* (Google static maps, free up to a certain number of requests a month) https://developers.google.com/maps/documentation/maps-static/intro \n",
    "    * (Getting an API Key) https://developers.google.com/maps/documentation/maps-static/get-api-key\n",
    "\n",
    "\n",
    "\n",
    "We got the idea for these examples from here: \n",
    "https://github.com/toddmotto/public-apis\n",
    "\n"
   ]
  },
  {
   "cell_type": "markdown",
   "metadata": {},
   "source": [
    "## Raw Requests\n",
    "To do this we take advantage of the requests library: https://pypi.org/project/requests/"
   ]
  },
  {
   "cell_type": "markdown",
   "metadata": {},
   "source": [
    "### Make the request"
   ]
  },
  {
   "cell_type": "code",
   "execution_count": null,
   "metadata": {},
   "outputs": [],
   "source": [
    "# \"Discovery Document: https://open.canada.ca/data/en/dataset/d38de914-c94c-429b-8ab1-8776c31643e3\"\n",
    "url = 'http://healthycanadians.gc.ca/recall-alert-rappel-avis/api/recent/en'\n",
    "res = requests.get(url)"
   ]
  },
  {
   "cell_type": "markdown",
   "metadata": {},
   "source": [
    "### Check Status Code \n",
    "https://en.wikipedia.org/wiki/List_of_HTTP_status_codes"
   ]
  },
  {
   "cell_type": "code",
   "execution_count": null,
   "metadata": {},
   "outputs": [],
   "source": [
    "print(res.status_code)"
   ]
  },
  {
   "cell_type": "markdown",
   "metadata": {},
   "source": [
    "### Print out content"
   ]
  },
  {
   "cell_type": "code",
   "execution_count": null,
   "metadata": {},
   "outputs": [],
   "source": [
    "print(res.content)"
   ]
  },
  {
   "cell_type": "markdown",
   "metadata": {},
   "source": [
    "### Organize Content (Parse JSON Response into python dictionary)"
   ]
  },
  {
   "cell_type": "code",
   "execution_count": null,
   "metadata": {},
   "outputs": [],
   "source": [
    "res_dict = res.json()\n",
    "\n",
    "print(json.dumps(res_dict, indent=4, sort_keys=True))"
   ]
  },
  {
   "cell_type": "code",
   "execution_count": null,
   "metadata": {},
   "outputs": [],
   "source": [
    "for recall in res_dict['results'][\"ALL\"]:\n",
    "    print(recall[\"title\"] + '\\n')"
   ]
  },
  {
   "cell_type": "markdown",
   "metadata": {},
   "source": [
    "### More complicated request\n",
    "Here we add parameters to the base url (essentially feeding variables to whatever function the provider uses to generate the data)"
   ]
  },
  {
   "cell_type": "code",
   "execution_count": null,
   "metadata": {},
   "outputs": [],
   "source": [
    "# \"Discovery Document\": https://www.coindesk.com/api\n",
    "\n",
    "def plot_bitcoin_price(start=\"2017-01-01\",end=datetime.datetime.now().strftime('%Y-%m-%d')):\n",
    "    url = 'https://api.coindesk.com/v1/bpi/historical/close.json'\n",
    "    \n",
    "    params = {\"index\":\"USD\",\n",
    "         \"currency\":\"CAD\",\n",
    "         \"start\":start,\n",
    "         \"end\":end}\n",
    "    \n",
    "    res = requests.get(url,params)\n",
    "    \n",
    "    if res.status_code == 200:\n",
    "        print('successful request')\n",
    "    else:\n",
    "        print('failed request')\n",
    "        return 1\n",
    "    \n",
    "    data = res.json()['bpi']\n",
    "    \n",
    "    t = [parser.parse(date) for date in data]\n",
    "    p = [data[date] for date in data]\n",
    "    \n",
    "    fig,ax = plt.subplots(1,1,figsize=(20,20))\n",
    "\n",
    "    ax.set_title(f\"Bitcoin price from {params['start']} to {params['end']}\")\n",
    "    ax.set_ylabel('Price of bitcoin (CAD)')\n",
    "    ax.set_xlabel('Date')\n",
    "\n",
    "    ax.plot(t,p)\n",
    "                 \n",
    "    return 0"
   ]
  },
  {
   "cell_type": "code",
   "execution_count": null,
   "metadata": {},
   "outputs": [],
   "source": [
    "plot_bitcoin_price()"
   ]
  },
  {
   "cell_type": "markdown",
   "metadata": {},
   "source": [
    "## Client Library\n",
    "Here we take advantage of an open source python client for the spaceX launch data API:\n",
    "https://github.com/r-spacex/SpaceX-API\n",
    "\n",
    "There appears to be a few clients:\n",
    "https://github.com/r-spacex/SpaceX-API/blob/master/docs/clients.md\n",
    "\n",
    "but only two python clients:\n",
    "* https://github.com/vinayphadnis/SpaceX-Python\n",
    "* https://github.com/HiKaylum/SpaceX-PY\n",
    "\n",
    "take a dig through the source code and you'll see it's identical to what we've done above, just\n",
    "abstracted so we don't need the boilerplate code everytime we make a request to this api.\n"
   ]
  },
  {
   "cell_type": "markdown",
   "metadata": {},
   "source": [
    "### Install Client Library via PIP"
   ]
  },
  {
   "cell_type": "code",
   "execution_count": null,
   "metadata": {},
   "outputs": [],
   "source": [
    "# !sudo pip install git+https://github.com/HiKaylum/SpaceX-PY #install from git\n",
    "!sudo pip install spacex-py #install from pypi"
   ]
  },
  {
   "cell_type": "markdown",
   "metadata": {},
   "source": [
    "### Import and Get Launch Data"
   ]
  },
  {
   "cell_type": "code",
   "execution_count": null,
   "metadata": {},
   "outputs": [],
   "source": [
    "from spacex_py import launches"
   ]
  },
  {
   "cell_type": "code",
   "execution_count": null,
   "metadata": {},
   "outputs": [],
   "source": [
    "launches, header = launches.get_launches()"
   ]
  },
  {
   "cell_type": "markdown",
   "metadata": {},
   "source": [
    "### Check out header for fun"
   ]
  },
  {
   "cell_type": "code",
   "execution_count": null,
   "metadata": {},
   "outputs": [],
   "source": [
    "print(json.dumps(dict(header), indent=4, sort_keys=True))"
   ]
  },
  {
   "cell_type": "markdown",
   "metadata": {},
   "source": [
    "### Look at first launch"
   ]
  },
  {
   "cell_type": "code",
   "execution_count": null,
   "metadata": {},
   "outputs": [],
   "source": [
    "print(json.dumps(launches[0], indent=4, sort_keys=True))"
   ]
  },
  {
   "cell_type": "markdown",
   "metadata": {},
   "source": [
    "### Plot Aggregate Payload Mass over time"
   ]
  },
  {
   "cell_type": "code",
   "execution_count": null,
   "metadata": {},
   "outputs": [],
   "source": [
    "data = {}\n",
    "\n",
    "\n",
    "for launch in launches:\n",
    "    \n",
    "    total_mass = 0\n",
    "    \n",
    "    for payload in launch['rocket']['second_stage']['payloads']:\n",
    "        mass = payload['payload_mass_kg']\n",
    "        if mass:\n",
    "            total_mass += mass\n",
    "    \n",
    "    if launch['launch_success']:\n",
    "        year = launch['launch_year']\n",
    "\n",
    "        if year not in data:\n",
    "            data[year] = 0\n",
    "            data[year] += total_mass\n",
    "        else:\n",
    "            data[year] += total_mass\n",
    "\n",
    "t = [parser.parse(date) for date in data]\n",
    "m = [data[date] for date in data]\n",
    "    \n",
    "            \n",
    "fig,ax = plt.subplots(1,1,figsize=(20,20))\n",
    "\n",
    "ax.set_title(\"Total Payload per Year of Space-X launches\")\n",
    "ax.set_ylabel('Mass(kg)')\n",
    "ax.set_xlabel('Year')\n",
    "\n",
    "ax.plot(t,m)\n",
    "    "
   ]
  },
  {
   "cell_type": "code",
   "execution_count": null,
   "metadata": {},
   "outputs": [],
   "source": []
  }
 ],
 "metadata": {
  "kernelspec": {
   "display_name": "Python 3",
   "language": "python",
   "name": "python3"
  },
  "language_info": {
   "codemirror_mode": {
    "name": "ipython",
    "version": 3
   },
   "file_extension": ".py",
   "mimetype": "text/x-python",
   "name": "python",
   "nbconvert_exporter": "python",
   "pygments_lexer": "ipython3",
   "version": "3.6.7"
  }
 },
 "nbformat": 4,
 "nbformat_minor": 2
}
