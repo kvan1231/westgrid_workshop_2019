{
 "cells": [
  {
   "cell_type": "code",
   "execution_count": null,
   "metadata": {},
   "outputs": [],
   "source": [
    "import pandas as pd\n",
    "import numpy as np\n",
    "import time\n",
    "import sys"
   ]
  },
  {
   "cell_type": "code",
   "execution_count": null,
   "metadata": {},
   "outputs": [],
   "source": [
    "df = pd.read_csv('cartoons_filled.csv')"
   ]
  },
  {
   "cell_type": "code",
   "execution_count": null,
   "metadata": {},
   "outputs": [],
   "source": [
    "df['score'] = 0.0"
   ]
  },
  {
   "cell_type": "code",
   "execution_count": null,
   "metadata": {},
   "outputs": [],
   "source": [
    "titles = df['title'].tolist()\n",
    "scores = df['score'].tolist()"
   ]
  },
  {
   "cell_type": "code",
   "execution_count": null,
   "metadata": {},
   "outputs": [],
   "source": [
    "from IPython.display import clear_output\n",
    "def create_true_bracket(titles,scores):\n",
    "    assert len(titles) == len(scores), 'score and title length mismatch!'\n",
    "    assert len(titles)%2 == 0, 'uneven bracket!'\n",
    "    \n",
    "    tuples = list(zip(titles,scores))\n",
    "    \n",
    "    N = len(tuples)\n",
    "\n",
    "    temp = []\n",
    "    \n",
    "    rounds = [tuples.copy()]\n",
    "    \n",
    "    while len(tuples) > 1:\n",
    "        \n",
    "        toon1 = tuples.pop(0)\n",
    "        toon2 = tuples.pop(0)\n",
    "        \n",
    "        print('1',toon1[0])\n",
    "        print('2',toon2[0])\n",
    "        \n",
    "        idx = int(input('who won?'))\n",
    "        if idx == 1:\n",
    "            tuples.append(toon1)\n",
    "            print(f'{toon1[0]} over {toon2[0]}')\n",
    "            \n",
    "        else:\n",
    "            tuples.append(toon2)\n",
    "            print(f'{toon2[0]} over {toon1[0]}')\n",
    "            \n",
    "        print('\\n')\n",
    "            \n",
    "        if len(tuples) == N//2:\n",
    "            print('Round Over')\n",
    "            rounds.append(tuples.copy())\n",
    "            N = len(tuples)\n",
    "            \n",
    "        \n",
    "    \n",
    "    return rounds, tuples"
   ]
  }
 ],
 "metadata": {
  "kernelspec": {
   "display_name": "Python 3",
   "language": "python",
   "name": "python3"
  },
  "language_info": {
   "codemirror_mode": {
    "name": "ipython",
    "version": 3
   },
   "file_extension": ".py",
   "mimetype": "text/x-python",
   "name": "python",
   "nbconvert_exporter": "python",
   "pygments_lexer": "ipython3",
   "version": "3.6.7"
  }
 },
 "nbformat": 4,
 "nbformat_minor": 2
}
