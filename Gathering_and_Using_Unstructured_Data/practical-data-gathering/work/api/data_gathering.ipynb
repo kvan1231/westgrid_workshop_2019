{
 "cells": [
  {
   "cell_type": "markdown",
   "metadata": {},
   "source": [
    "# CARTOON MARCH MADNESS\n",
    "\n",
    "* Sonic 102.9 (Edmonton Radio Station) put on a march madness for cartoons in, you guessed it, March of 2019. \n",
    "\n",
    "* People we're surveyed and voted for each cartoon, and those votes determined how the bracket played out. \n",
    "\n",
    "* For fun we endeavored to model the bracket and predict the outcome, but before we could do that we needed to gather the data!\n",
    "\n",
    "* to do this we took advantage of an unofficial client library for IMDb: https://github.com/alberanid/imdbpy\n",
    "\n",
    "* The hypothesis is that some combination of factors (votes, tenure, ratings) would be predictive of the voting outcome for sonics bracket!"
   ]
  },
  {
   "cell_type": "markdown",
   "metadata": {},
   "source": [
    "## Load Libraries and fetch bracket list."
   ]
  },
  {
   "cell_type": "code",
   "execution_count": null,
   "metadata": {},
   "outputs": [],
   "source": [
    "# IMDb has no official API instead we use an unoffical client (which actually scrapes the website!)\n",
    "\n",
    "import pandas as pd\n",
    "import time\n",
    "import sys\n",
    "from imdb import IMDb\n",
    "from IPython.display import clear_output"
   ]
  },
  {
   "cell_type": "code",
   "execution_count": null,
   "metadata": {},
   "outputs": [],
   "source": [
    "from imdb.Movie import Movie"
   ]
  },
  {
   "cell_type": "code",
   "execution_count": null,
   "metadata": {},
   "outputs": [],
   "source": [
    "cartoons = pd.read_csv('data/original/cartoons.csv')"
   ]
  },
  {
   "cell_type": "code",
   "execution_count": null,
   "metadata": {},
   "outputs": [],
   "source": [
    "imdb_client = IMDb()\n",
    "# movie.items() to list all attributes of a movie"
   ]
  },
  {
   "cell_type": "markdown",
   "metadata": {},
   "source": [
    "## Manually curating the dataset with the help of the API\n",
    "We search for each cartoon based on the title, but since there are potentially tons of shows \n",
    "with the same name (reboots,remakes,reimaginings) we need to manually select the correct result.\n",
    "\n",
    "This is a super common task, and if it was to be repeated a ton the ideal solution would be to\n",
    "make an application specifically for annotation. However Jupyter allows for the creation of a barebones\n",
    "annotation tool, that is quick to create and simple to use."
   ]
  },
  {
   "cell_type": "code",
   "execution_count": null,
   "metadata": {},
   "outputs": [],
   "source": [
    "# Because of the possibility of reboots/remakes we need to manually verify the correct show.\n",
    "\n",
    "titles = cartoons.title.tolist()\n",
    "data = {'title':[],\n",
    "        'id':[],\n",
    "        'year':[],\n",
    "        'rating':[],\n",
    "        'votes':[],\n",
    "        'seasons':[]}\n",
    "\n",
    "named_attributes = ['year','rating','votes','seasons']\n",
    "        \n",
    "\n",
    "#LOOP THROUGH SHOW TITLES AND VALIDATE MATCHING IMDB ENTRY\n",
    "for title in titles:\n",
    "    print(title)\n",
    "    \n",
    "    # include both the raw title and a search with animated appended (heuristic for false matches)\n",
    "    raw_search = imdb_client.search_movie(title)\n",
    "    animated_search = imdb_client.search_movie(title + ' animated')\n",
    "    \n",
    "    # should deduplicate here but the library has an issue with it's comparison method.\n",
    "    # so set does not work.\n",
    "    full_search = raw_search + animated_search\n",
    "    \n",
    "    # restrict to series only\n",
    "    series_only = [item for item in full_search if item['kind'] == 'tv series']\n",
    "\n",
    "    # LOOP THROUGH ALL SEARCH RESULTS THAT ARE SERIES AND PRINT RELEVANT INFO\n",
    "    for idx,item in enumerate(series_only):\n",
    "        imdb_client.update(item)\n",
    "        try:\n",
    "            print(idx,item['long imdb canonical title'], item['series years'], item['votes'], item.movieID)\n",
    "        except Exception as e:\n",
    "            print(f'Key Error:{e}')\n",
    "                \n",
    "    # GRAB CORRECT MATCH FROM USER\n",
    "    user_input = int(input('Which index is the correct title?'))\n",
    "    \n",
    "    selected = series_only[user_input]\n",
    "    \n",
    "    data['title'].append(title)\n",
    "    data['id'].append(selected.movieID)\n",
    "    \n",
    "    for key in named_attributes:\n",
    "        data[key].append(selected[key])\n",
    "    \n",
    "    clear_output(wait=True)\n",
    "    "
   ]
  },
  {
   "cell_type": "markdown",
   "metadata": {},
   "source": [
    "## Final Dataset\n",
    "view (and save if desired) the final dataset"
   ]
  },
  {
   "cell_type": "code",
   "execution_count": null,
   "metadata": {},
   "outputs": [],
   "source": [
    "cartoons_filled = pd.DataFrame(data=data)\n",
    "with pd.option_context('display.max_rows',100):\n",
    "    display(cartoons_filled)"
   ]
  },
  {
   "cell_type": "code",
   "execution_count": null,
   "metadata": {},
   "outputs": [],
   "source": [
    "# Save to file (Uncomment if you'd like to save)\n",
    "# cartoons_filled.to_csv('data/my_cartoons_filled.csv',index=False)"
   ]
  }
 ],
 "metadata": {
  "kernelspec": {
   "display_name": "Python 3",
   "language": "python",
   "name": "python3"
  },
  "language_info": {
   "codemirror_mode": {
    "name": "ipython",
    "version": 3
   },
   "file_extension": ".py",
   "mimetype": "text/x-python",
   "name": "python",
   "nbconvert_exporter": "python",
   "pygments_lexer": "ipython3",
   "version": "3.6.7"
  }
 },
 "nbformat": 4,
 "nbformat_minor": 2
}
