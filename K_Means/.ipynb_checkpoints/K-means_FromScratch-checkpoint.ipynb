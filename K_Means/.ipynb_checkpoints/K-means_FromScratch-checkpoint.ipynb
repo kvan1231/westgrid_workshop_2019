{
 "cells": [
  {
   "cell_type": "code",
   "execution_count": 1,
   "metadata": {},
   "outputs": [],
   "source": [
    "from copy import deepcopy\n",
    "import numpy as np\n",
    "import pandas as pd\n",
    "import matplotlib.pyplot as plt"
   ]
  },
  {
   "cell_type": "markdown",
   "metadata": {},
   "source": [
    "# Data"
   ]
  },
  {
   "cell_type": "code",
   "execution_count": 2,
   "metadata": {},
   "outputs": [
    {
     "data": {
      "text/plain": [
       "<matplotlib.collections.PathCollection at 0x7fc8325cb1d0>"
      ]
     },
     "execution_count": 2,
     "metadata": {},
     "output_type": "execute_result"
    },
    {
     "data": {
      "image/png": "[encoded data removed]",
      "text/plain": [
       "<Figure size 432x288 with 1 Axes>"
      ]
     },
     "metadata": {
      "needs_background": "light"
     },
     "output_type": "display_data"
    }
   ],
   "source": [
    "X = np.array([[3, 1], [2, 2], [3,2], [3, 3],[4,4],[4, 5],[5, 7],[5, 4]])\n",
    "plt.scatter(X[:, 0], X[:, 1], c='red', s=20)"
   ]
  },
  {
   "cell_type": "markdown",
   "metadata": {},
   "source": [
    "# Define distance functions"
   ]
  },
  {
   "cell_type": "code",
   "execution_count": 3,
   "metadata": {},
   "outputs": [],
   "source": [
    "# Euclidean Distance Caculator\n",
    "\n",
    "\n",
    "def dist(a, b, ax =1):\n",
    "    return np.linalg.norm(a - b, axis=ax)\n",
    "\n",
    "\n",
    "\n",
    "\n",
    "\n",
    "\n",
    "\n"
   ]
  },
  {
   "cell_type": "markdown",
   "metadata": {},
   "source": [
    "# Initialize the cluster centers"
   ]
  },
  {
   "cell_type": "code",
   "execution_count": 32,
   "metadata": {},
   "outputs": [],
   "source": [
    "# Number of clusters \n",
    "\n",
    "\n",
    "k = 2\n",
    "\n",
    "# cluster centers\n",
    "\n",
    "C = np.array([[2,2],[4,5]])\n"
   ]
  },
  {
   "cell_type": "markdown",
   "metadata": {},
   "source": [
    "# Loop of the K-means algorithm"
   ]
  },
  {
   "cell_type": "code",
   "execution_count": 33,
   "metadata": {},
   "outputs": [],
   "source": [
    "def plot_cluster_status():\n",
    "    colors = ['r', 'g', 'b', 'y', 'c', 'm']\n",
    "    fig, ax = plt.subplots()\n",
    "    for i in range(k):\n",
    "            points = np.array([X[j] for j in range(len(X)) if clusters[j] == i])\n",
    "            ax.scatter(points[:, 0], points[:, 1], s=7, c=colors[i])\n",
    "    ax.scatter(C[:, 0], C[:, 1], marker='*', s=200, c='#050505')\n"
   ]
  },
  {
   "cell_type": "code",
   "execution_count": 34,
   "metadata": {},
   "outputs": [
    {
     "name": "stdout",
     "output_type": "stream",
     "text": [
      "point  0  is assigned to  0\n",
      "point  1  is assigned to  0\n",
      "point  2  is assigned to  0\n",
      "point  3  is assigned to  0\n",
      "point  4  is assigned to  1\n",
      "point  5  is assigned to  1\n",
      "point  6  is assigned to  1\n",
      "point  7  is assigned to  1\n",
      "Centers were  [[2 2]\n",
      " [4 5]]\n",
      "------------------\n"
     ]
    },
    {
     "data": {
      "image/png": "[encoded data removed]",
      "text/plain": [
       "<Figure size 432x288 with 1 Axes>"
      ]
     },
     "metadata": {
      "needs_background": "light"
     },
     "output_type": "display_data"
    }
   ],
   "source": [
    "# To store the value of centroids when it updates\n",
    "C_old = np.zeros(C.shape)\n",
    "\n",
    "# Cluster Lables(0, 1, 2)\n",
    "clusters = np.zeros(len(X))\n",
    "\n",
    "\n",
    "# Error func. - Distance between new centroids and old centroids\n",
    "error = dist(C, C_old, None)\n",
    "\n",
    "\n",
    "# Loop will run till the error becomes zero\n",
    "while(error!=0):\n",
    "    # Assigning each value to its closest cluster\n",
    "    for i in range(len(X)):\n",
    "        #complete the cluster assignment \n",
    "        \n",
    "        distances = dist(X[i], C)\n",
    "        cluster = np.argmin(distances)\n",
    "        clusters[i] = cluster\n",
    "        print('point ' , i, ' is assigned to ' , cluster)\n",
    "\n",
    "    # Storing the old centroid values\n",
    "    C_old = deepcopy(C)\n",
    "\n",
    "    \n",
    "    # Finding the new centroids by taking the average value\n",
    "    for i in range(k):\n",
    "        points = [X[j] for j in range(len(X)) if clusters[j] == i]\n",
    "        C[i] = np.mean(points, axis=0)\n",
    "\n",
    "    print('Centers were ', C_old)\n",
    "    print('------------------')\n",
    "    plot_cluster_status()\n",
    "    error = dist(C, C_old, None)\n"
   ]
  },
  {
   "cell_type": "code",
   "execution_count": 30,
   "metadata": {},
   "outputs": [
    {
     "data": {
      "image/png": "[encoded data removed]",
      "text/plain": [
       "<Figure size 432x288 with 1 Axes>"
      ]
     },
     "metadata": {
      "needs_background": "light"
     },
     "output_type": "display_data"
    }
   ],
   "source": [
    "#Final output\n",
    "plot_cluster_status()"
   ]
  },
  {
   "cell_type": "markdown",
   "metadata": {},
   "source": [
    "# Compare with sklearn"
   ]
  },
  {
   "cell_type": "code",
   "execution_count": 35,
   "metadata": {},
   "outputs": [
    {
     "name": "stdout",
     "output_type": "stream",
     "text": [
      "[1 1 1 1 0 0 0 0]\n"
     ]
    }
   ],
   "source": [
    "from sklearn.cluster import KMeans\n",
    "\n",
    "\n",
    "# run clustering with SKlearn\n",
    "kmeans = KMeans(n_clusters=2)\n",
    "\n",
    "kmeans = kmeans.fit(X)\n",
    "\n",
    "labels = kmeans.predict(X)\n",
    "\n",
    "centroids = kmeans.cluster_centers_\n",
    "\n",
    "print(kmeans.labels_)\n"
   ]
  },
  {
   "cell_type": "code",
   "execution_count": 39,
   "metadata": {},
   "outputs": [
    {
     "name": "stdout",
     "output_type": "stream",
     "text": [
      "***************************** From scratch *****************************\n",
      "[[2 2]\n",
      " [4 5]]\n",
      "0.5239235886291701\n",
      "***************************** From Scikit learn *****************************\n",
      "[[4.5  5.  ]\n",
      " [2.75 2.  ]]\n",
      "0.5239235886291701\n"
     ]
    }
   ],
   "source": [
    "# Comparing with scikit-learn centroids & silhouette_score\n",
    "from sklearn.metrics import silhouette_score\n",
    "\n",
    "print(\"***************************** From scratch *****************************\")\n",
    "print(C)\n",
    "print(silhouette_score(X, clusters))\n",
    "\n",
    "print(\"***************************** From Scikit learn *****************************\")\n",
    "print(centroids)\n",
    "print(silhouette_score(X, kmeans.labels_))\n",
    "\n",
    "# compare the results in term of the centers and silhouette_score\n"
   ]
  },
  {
   "cell_type": "code",
   "execution_count": 42,
   "metadata": {},
   "outputs": [
    {
     "data": {
      "image/png": "[encoded data removed]",
      "text/plain": [
       "<Figure size 576x396 with 2 Axes>"
      ]
     },
     "metadata": {},
     "output_type": "display_data"
    }
   ],
   "source": [
    "#https://www.scikit-yb.org/en/latest/api/cluster/elbow.html\n",
    "# Import the KElbowVisualizer method \n",
    "from yellowbrick.cluster import KElbowVisualizer\n",
    "\n",
    "# Instantiate a scikit-learn K-Means model\n",
    "model = KMeans(random_state=0)\n",
    "\n",
    "# Instantiate the KElbowVisualizer with the number of clusters and the metric \n",
    "visualizer = KElbowVisualizer(model, k=(2,))\n",
    "\n",
    "# Fit the data and visualize\n",
    "visualizer.fit(X)    \n",
    "visualizer.poof() "
   ]
  }
 ],
 "metadata": {
  "kernelspec": {
   "display_name": "Python 3",
   "language": "python",
   "name": "python3"
  },
  "language_info": {
   "codemirror_mode": {
    "name": "ipython",
    "version": 3
   },
   "file_extension": ".py",
   "mimetype": "text/x-python",
   "name": "python",
   "nbconvert_exporter": "python",
   "pygments_lexer": "ipython3",
   "version": "3.6.8"
  }
 },
 "nbformat": 4,
 "nbformat_minor": 2
}
