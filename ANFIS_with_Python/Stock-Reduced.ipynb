{
 "cells": [
  {
   "cell_type": "markdown",
   "metadata": {},
   "source": [
    "# Install Libraries"
   ]
  },
  {
   "cell_type": "code",
   "execution_count": null,
   "metadata": {},
   "outputs": [],
   "source": [
    "#!pip install -U scikit-fuzzy\n",
    "\n",
    "#!conda install -c conda-forge scikit-fuzzy \n",
    "#!conda install -c conda-forge/label/gcc7 scikit-fuzzy \n",
    "#!conda install -c conda-forge/label/cf201901 scikit-fuzzy"
   ]
  },
  {
   "cell_type": "code",
   "execution_count": null,
   "metadata": {},
   "outputs": [],
   "source": [
    "# installing the ANFIS library\n",
    "\n",
    "# For python 3\n",
    "#!git clone https://github.com/Arash-Afshar/anfis.git\n",
    "\n",
    "# For python 2\n",
    "#! git clone https://github.com/twmeggs/anfis.git\n",
    "\n",
    "#!mv anfis anfis_top_level\n",
    "#!mv anfis_top_level/anfis .\n",
    "#!rm -rf anfis_top_level"
   ]
  },
  {
   "cell_type": "markdown",
   "metadata": {},
   "source": [
    "# Load Libraries"
   ]
  },
  {
   "cell_type": "code",
   "execution_count": null,
   "metadata": {},
   "outputs": [],
   "source": [
    "from __future__ import division\n",
    "\n",
    "#Common Library\n",
    "import numpy as np\n",
    "import pandas as pd\n",
    "from datetime import datetime,timedelta\n",
    "from dateutil import parser\n",
    "import random\n",
    "\n",
    "#import time\n",
    "from time import time\n",
    "#Sklearn\n",
    "from sklearn.model_selection import train_test_split\n",
    "from sklearn import metrics\n",
    "\n",
    "#regression evaluation\n",
    "import sklearn.metrics \n",
    "\n",
    "#Matplotlib\n",
    "import matplotlib.pyplot as plt\n",
    "# Anfis\n",
    "from anfis import anfis\n",
    "from anfis import membership\n",
    "\n"
   ]
  },
  {
   "cell_type": "markdown",
   "metadata": {},
   "source": [
    "# Build a function to construct membership function"
   ]
  },
  {
   "cell_type": "code",
   "execution_count": null,
   "metadata": {},
   "outputs": [],
   "source": [
    "def ConstructFISMembership(X, Y, sigma_lb, sigma_ub):\n",
    "    mf = []\n",
    "\n",
    "    for i in range(0, len(X[0])):\n",
    "        #Let's build the format of our membership functions here ...\n",
    "        vmf = []\n",
    "\n",
    "        \n",
    "        \n",
    "        \n",
    "        mf.append(vmf)\n",
    "    print(mf)\n",
    "    \n",
    "    \n",
    "    mfc = membership.membershipfunction.MemFuncs(mf)\n",
    "    return mfc"
   ]
  },
  {
   "cell_type": "markdown",
   "metadata": {},
   "source": [
    "# Build ANFIS Model"
   ]
  },
  {
   "cell_type": "code",
   "execution_count": null,
   "metadata": {},
   "outputs": [],
   "source": [
    "def CreateANFISModel(X, Y, sigma_lb=1.25, sigma_ub=5, epoch=30):\n",
    "\n",
    "    #Let's biuild an ANFIS Model and train it:\n",
    "\n",
    "    \n",
    "    \n",
    "    \n",
    "    \n",
    "    \n",
    "    return anf"
   ]
  },
  {
   "cell_type": "markdown",
   "metadata": {},
   "source": [
    "# Load Data"
   ]
  },
  {
   "cell_type": "code",
   "execution_count": null,
   "metadata": {},
   "outputs": [],
   "source": [
    "data = pd.read_csv(\"reduced.csv\") \n",
    "\n",
    "X = data.values[:,1]\n",
    "X = X.reshape(len(X),1)\n",
    "y = data.values[:,2]\n",
    "\n",
    "x_train, x_test, y_train, y_test = train_test_split(X, y, random_state=42, test_size=0.1)\n",
    "\n",
    "anf = CreateANFISModel(x_train, y_train, sigma_lb=0.75, sigma_ub=5, epoch=25)"
   ]
  },
  {
   "cell_type": "markdown",
   "metadata": {},
   "source": [
    "# Evaluate the model"
   ]
  },
  {
   "cell_type": "code",
   "execution_count": null,
   "metadata": {},
   "outputs": [],
   "source": [
    "def ANFISEvaluate(model, X, Y):\n",
    "\n",
    "    #Let's use the model for prediction\n",
    "\n",
    "    \n",
    "    \n",
    "    \n",
    "    \n",
    "    \n",
    "    #Let's visiualize the training information\n",
    "    model.plotErrors()\n",
    "    model.plotResults()\n",
    "    plt.show()"
   ]
  },
  {
   "cell_type": "code",
   "execution_count": null,
   "metadata": {},
   "outputs": [],
   "source": [
    "ANFISEvaluate(anf, x_test, y_test)"
   ]
  },
  {
   "cell_type": "markdown",
   "metadata": {},
   "source": [
    "# References "
   ]
  },
  {
   "cell_type": "markdown",
   "metadata": {},
   "source": [
    "1) \n",
    "https://github.com/giamuhammad/ga_aco_opt_on_anfis_svm/blob/master/ANFIS_IstanbulStockExchange.ipynb\n",
    "\n",
    "2) https://github.com/twmeggs/anfis\n",
    "\n",
    "3) https://github.com/Arash-Afshar/anfis.git"
   ]
  }
 ],
 "metadata": {
  "kernelspec": {
   "display_name": "Python 3",
   "language": "python",
   "name": "python3"
  },
  "language_info": {
   "codemirror_mode": {
    "name": "ipython",
    "version": 3
   },
   "file_extension": ".py",
   "mimetype": "text/x-python",
   "name": "python",
   "nbconvert_exporter": "python",
   "pygments_lexer": "ipython3",
   "version": "3.6.8"
  }
 },
 "nbformat": 4,
 "nbformat_minor": 2
}
