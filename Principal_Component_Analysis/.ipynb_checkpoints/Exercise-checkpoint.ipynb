{
 "cells": [
  {
   "cell_type": "markdown",
   "metadata": {},
   "source": [
    "# Exercise\n",
    "Find the principle components, build a logistic regression and compare the results with different principle components."
   ]
  },
  {
   "cell_type": "code",
   "execution_count": 33,
   "metadata": {},
   "outputs": [],
   "source": [
    "import numpy as np\n",
    "from pandas import read_csv\n",
    "from sklearn.decomposition import PCA"
   ]
  },
  {
   "cell_type": "code",
   "execution_count": 6,
   "metadata": {},
   "outputs": [],
   "source": [
    "from sklearn.datasets import fetch_mldata\n",
    "from sklearn.preprocessing import StandardScaler\n",
    "from sklearn import metrics\n",
    "from sklearn.model_selection import train_test_split\n",
    "import pandas as pd\n",
    "import time\n",
    "from sklearn.datasets import load_digits\n",
    "from sklearn.linear_model import LogisticRegression"
   ]
  },
  {
   "cell_type": "code",
   "execution_count": 7,
   "metadata": {},
   "outputs": [],
   "source": [
    "# load data\n",
    "url = \"https://raw.githubusercontent.com/jbrownlee/Datasets/master/pima-indians-diabetes.data.csv\"\n",
    "names = ['preg', 'plas', 'pres', 'skin', 'test', 'mass', 'pedi', 'age', 'class']\n",
    "dataframe = read_csv(url, names=names)\n",
    "array = dataframe.values\n",
    "X = array[:,0:8]\n",
    "y = array[:,8]"
   ]
  },
  {
   "cell_type": "code",
   "execution_count": 34,
   "metadata": {},
   "outputs": [
    {
     "name": "stdout",
     "output_type": "stream",
     "text": [
      " min: 0.0  max: 17.0  mean: 3.8450520833333335  var: 11.339272393120657\n",
      "-------------------\n",
      " min: 0.0  max: 199.0  mean: 120.89453125  var: 1020.9172617594401\n",
      "-------------------\n",
      " min: 0.0  max: 122.0  mean: 69.10546875  var: 374.1594492594401\n",
      "-------------------\n",
      " min: 0.0  max: 99.0  mean: 20.536458333333332  var: 254.14189995659726\n",
      "-------------------\n",
      " min: 0.0  max: 846.0  mean: 79.79947916666667  var: 13263.886874728734\n",
      "-------------------\n",
      " min: 0.0  max: 67.1  mean: 31.992578124999998  var: 62.079046478271486\n",
      "-------------------\n",
      " min: 0.078  max: 2.42  mean: 0.47187630208333325  var: 0.10963569693840876\n",
      "-------------------\n",
      " min: 21.0  max: 81.0  mean: 33.240885416666664  var: 138.12296379937067\n",
      "-------------------\n",
      "(768, 8)\n",
      "(768, 7)\n"
     ]
    }
   ],
   "source": [
    "from sklearn.feature_selection import VarianceThreshold\n",
    "\n",
    "\n",
    "for i in range(len(X[0])):\n",
    "    print(' min:', np.min(X[:,i]), ' max:', np.max(X[:,i]), ' mean:', np.mean(X[:,i]), ' var:', np.var(X[:,i]))\n",
    "    #var = mean(abs(x - x.mean())**2)\n",
    "    print('-------------------')\n",
    "\n",
    "\n",
    "print(X.shape)\n",
    "\n",
    "# complete this part =================================================\n",
    "\n",
    "variance_selector = VarianceThreshold(threshold=(0.25))\n",
    "X = variance_selector.fit_transform(X)\n",
    "\n",
    "\n",
    "print(X.shape)"
   ]
  },
  {
   "cell_type": "code",
   "execution_count": 35,
   "metadata": {},
   "outputs": [
    {
     "name": "stdout",
     "output_type": "stream",
     "text": [
      "(768, 7)\n",
      "(768,)\n"
     ]
    }
   ],
   "source": [
    "print(X.shape)\n",
    "print(y.shape)\n",
    "\n",
    "X_train, X_test, train_lbl, test_lbl = train_test_split(X, y, random_state=0)"
   ]
  },
  {
   "cell_type": "code",
   "execution_count": 36,
   "metadata": {},
   "outputs": [],
   "source": [
    "scaler = StandardScaler()\n",
    "# Fit on training set only.\n",
    "scaler.fit(X)\n",
    "\n",
    "# Apply transform to both the training set and the test set.\n",
    "X_train = scaler.transform(X_train)\n",
    "X_test = scaler.transform(X_test)"
   ]
  },
  {
   "cell_type": "code",
   "execution_count": 37,
   "metadata": {},
   "outputs": [],
   "source": [
    "pc_components = 2\n",
    "pca = PCA(n_components = pc_components) \n",
    "\n",
    "pca.fit(X_train)\n",
    "\n",
    "X_train = pca.transform(X_train)\n",
    "X_test = pca.transform(X_test)"
   ]
  },
  {
   "cell_type": "code",
   "execution_count": 38,
   "metadata": {},
   "outputs": [
    {
     "name": "stdout",
     "output_type": "stream",
     "text": [
      "0.7239583333333334\n",
      "Time:5\n"
     ]
    }
   ],
   "source": [
    "start_millis = int(round(time.time()*1000))\n",
    "\n",
    "\n",
    "\n",
    "# all parameters not specified are set to their defaults\n",
    "# default solver is incredibly slow thats why we change it\n",
    "# solver = 'lbfgs'\n",
    "logisticRegr = LogisticRegression(solver = 'lbfgs', multi_class='auto')\n",
    "\n",
    "logisticRegr.fit(X_train, train_lbl)\n",
    "\n",
    "\n",
    "# Returns a NumPy Array\n",
    "# Predict for One Observation (image)\n",
    "logisticRegr.predict(X_test[0].reshape(1,-1))\n",
    "\n",
    "# Predict for Multiple Observations (images) at Once\n",
    "logisticRegr.predict(X_test[0:10])\n",
    "\n",
    "\n",
    "score = logisticRegr.score(X_test, test_lbl)\n",
    "print(score)\n",
    "\n",
    "end_millis = int(round(time.time()*1000))\n",
    "\n",
    "duration = end_millis - start_millis\n",
    "print('Time:' + str(duration))"
   ]
  }
 ],
 "metadata": {
  "kernelspec": {
   "display_name": "Python 3",
   "language": "python",
   "name": "python3"
  },
  "language_info": {
   "codemirror_mode": {
    "name": "ipython",
    "version": 3
   },
   "file_extension": ".py",
   "mimetype": "text/x-python",
   "name": "python",
   "nbconvert_exporter": "python",
   "pygments_lexer": "ipython3",
   "version": "3.6.8"
  }
 },
 "nbformat": 4,
 "nbformat_minor": 2
}
