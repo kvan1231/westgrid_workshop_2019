{
 "cells": [
  {
   "cell_type": "code",
   "execution_count": 1,
   "metadata": {},
   "outputs": [],
   "source": [
    "import numpy as np\n",
    "from sklearn.datasets import load_iris\n",
    "from sklearn.decomposition import PCA"
   ]
  },
  {
   "cell_type": "markdown",
   "metadata": {},
   "source": [
    "# Standard Scale\n",
    "\n",
    "#More info: https://medium.com/greyatom/why-how-and-when-to-scale-your-features-4b30ab09db5e\n"
   ]
  },
  {
   "cell_type": "code",
   "execution_count": 2,
   "metadata": {},
   "outputs": [
    {
     "name": "stdout",
     "output_type": "stream",
     "text": [
      "[[-1.06904497 -0.5132649 ]\n",
      " [ 1.60356745  1.86975072]\n",
      " [ 0.26726124  0.03666178]\n",
      " [ 0.26726124 -0.32995601]\n",
      " [-1.06904497 -1.06319158]]\n",
      "mean=[-8.8817842e-17  0.0000000e+00], std[1. 1.]\n"
     ]
    }
   ],
   "source": [
    "X = np.array([[1, 65],[3, 130],[2, 80],[2, 70],[1, 50]])\n",
    "\n",
    "X_t = (X - X.mean(axis=0))/X.std(axis=0)\n",
    "\n",
    "\n",
    "print(X_t)\n",
    "print(\"mean={}, std{}\".format(X_t.mean(axis=0), X_t.std(axis=0)))\n"
   ]
  },
  {
   "cell_type": "markdown",
   "metadata": {},
   "source": [
    "======================================================================================================"
   ]
  },
  {
   "cell_type": "markdown",
   "metadata": {},
   "source": [
    "# Feature Selection methods"
   ]
  },
  {
   "cell_type": "markdown",
   "metadata": {},
   "source": [
    "# Removing features with low variance\n",
    "More info: https://scikit-learn.org/stable/modules/generated/sklearn.feature_selection.VarianceThreshold.html"
   ]
  },
  {
   "cell_type": "code",
   "execution_count": 3,
   "metadata": {},
   "outputs": [
    {
     "name": "stdout",
     "output_type": "stream",
     "text": [
      " min: 4.3  max: 7.9  mean: 5.843333333333334  var: 0.6811222222222223\n",
      "-------------------\n",
      " min: 2.0  max: 4.4  mean: 3.0573333333333337  var: 0.1887128888888889\n",
      "-------------------\n",
      " min: 1.0  max: 6.9  mean: 3.7580000000000005  var: 3.0955026666666665\n",
      "-------------------\n",
      " min: 0.1  max: 2.5  mean: 1.1993333333333336  var: 0.5771328888888888\n",
      "-------------------\n",
      "(150, 4)\n",
      "(150, 4)\n"
     ]
    }
   ],
   "source": [
    "from sklearn.feature_selection import VarianceThreshold\n",
    "\n",
    "iris = load_iris()\n",
    "X = iris.data\n",
    "\n",
    "for i in range(len(X[0])):\n",
    "    print(' min:', np.min(X[:,i]), ' max:', np.max(X[:,i]), ' mean:', np.mean(X[:,i]), ' var:', np.var(X[:,i]))\n",
    "    #var = mean(abs(x - x.mean())**2)\n",
    "    print('-------------------')\n",
    "\n",
    "\n",
    "print(X.shape)\n",
    "\n",
    "# complete this part =================================================\n",
    "\n",
    "\n",
    "\n",
    "\n",
    "print(X.shape)"
   ]
  },
  {
   "cell_type": "markdown",
   "metadata": {},
   "source": [
    "# Univariate feature selection"
   ]
  },
  {
   "cell_type": "markdown",
   "metadata": {},
   "source": [
    "### SelectKBest\n",
    "More info: https://scikit-learn.org/stable/modules/generated/sklearn.feature_selection.SelectKBest.html"
   ]
  },
  {
   "cell_type": "code",
   "execution_count": 3,
   "metadata": {},
   "outputs": [
    {
     "name": "stdout",
     "output_type": "stream",
     "text": [
      "[ 10.81782088   3.7107283  116.31261309  67.0483602 ]\n",
      "[[5.1 1.4 0.2]\n",
      " [4.9 1.4 0.2]\n",
      " [4.7 1.3 0.2]\n",
      " [4.6 1.5 0.2]\n",
      " [5.  1.4 0.2]]\n"
     ]
    }
   ],
   "source": [
    "from sklearn.feature_selection import SelectKBest\n",
    "from sklearn.feature_selection import chi2\n",
    "\n",
    "iris = load_iris()\n",
    "X, y = iris.data, iris.target\n",
    "\n",
    "\n",
    "# complete this part =================================================\n",
    "\n",
    "\n",
    "\n",
    "print(X_new.scores_)\n",
    "print(features[0:5,:])"
   ]
  },
  {
   "cell_type": "markdown",
   "metadata": {},
   "source": [
    "### SelectPercentile\n",
    "More info: https://scikit-learn.org/stable/modules/generated/sklearn.feature_selection.SelectPercentile.html"
   ]
  },
  {
   "cell_type": "code",
   "execution_count": 3,
   "metadata": {},
   "outputs": [
    {
     "name": "stdout",
     "output_type": "stream",
     "text": [
      "(150, 4)\n",
      "(150, 2)\n"
     ]
    }
   ],
   "source": [
    "from sklearn.feature_selection import SelectPercentile\n",
    "from sklearn.feature_selection import chi2\n",
    "\n",
    "data_experiment = load_iris()\n",
    "X, y = data_experiment.data, data_experiment.target\n",
    "print(X.shape)\n",
    "\n",
    "X_new = SelectPercentile(chi2, percentile=60).fit_transform(X, y)\n",
    "\n",
    "print(X_new.shape)"
   ]
  },
  {
   "cell_type": "markdown",
   "metadata": {},
   "source": [
    "# Recursive Feature Elimination\n",
    "More info: https://scikit-learn.org/stable/modules/generated/sklearn.feature_selection.RFE.html"
   ]
  },
  {
   "cell_type": "code",
   "execution_count": 5,
   "metadata": {},
   "outputs": [
    {
     "name": "stdout",
     "output_type": "stream",
     "text": [
      "(150, 4)\n",
      "Fitting estimator with 4 features.\n",
      "(150, 2)\n",
      "[False False  True  True]\n",
      "[2 2 1 1]\n"
     ]
    }
   ],
   "source": [
    "from sklearn.feature_selection import RFE\n",
    "from sklearn.svm import SVR\n",
    "\n",
    "\n",
    "data_experiment = load_iris()\n",
    "X, y = data_experiment.data, data_experiment.target\n",
    "\n",
    "print(X.shape)\n",
    "\n",
    "estimator = SVR(kernel=\"linear\")\n",
    "selector = RFE(estimator, n_features_to_select =2, step=2, verbose=True)#step: If greater than or equal to 1, then step corresponds to the (integer) number of features to remove at each iteration.\n",
    "\n",
    "selector = selector.fit(X, y)\n",
    "X_new = selector.transform(X)\n",
    "\n",
    "print(X_new.shape)\n",
    "\n",
    "print(selector.support_)\n",
    "print(selector.ranking_)"
   ]
  },
  {
   "cell_type": "markdown",
   "metadata": {},
   "source": [
    "### Recursive feature elimination with cross validation\n",
    "More info: https://scikit-learn.org/stable/modules/generated/sklearn.feature_selection.RFECV.html"
   ]
  },
  {
   "cell_type": "code",
   "execution_count": 6,
   "metadata": {},
   "outputs": [
    {
     "name": "stdout",
     "output_type": "stream",
     "text": [
      "(150, 4)\n",
      "2\n",
      "[False False  True  True]\n",
      "[2 3 1 1]\n"
     ]
    }
   ],
   "source": [
    "from sklearn.feature_selection import RFECV\n",
    "from sklearn.ensemble import RandomForestClassifier\n",
    "\n",
    "data_experiment = load_iris()\n",
    "X = data_experiment.data\n",
    "y = data_experiment.target\n",
    "print(X.shape)\n",
    "\n",
    "# feature extraction\n",
    "#estimator = RandomForestClassifier(n_estimators=10)\n",
    "estimator = SVR(kernel=\"linear\")\n",
    "rfe = RFECV(estimator, min_features_to_select=2, cv=3)\n",
    "fit = rfe.fit(X, y)\n",
    "\n",
    "print(fit.n_features_) # features\n",
    "print(fit.support_) # Selected Features:\n",
    "print(fit.ranking_) #Feature Ranking\n"
   ]
  },
  {
   "cell_type": "markdown",
   "metadata": {},
   "source": [
    "# Feature selection using SelectFromModel\n",
    "More info: https://scikit-learn.org/stable/modules/generated/sklearn.feature_selection.SelectFromModel.html"
   ]
  },
  {
   "cell_type": "code",
   "execution_count": 7,
   "metadata": {},
   "outputs": [
    {
     "name": "stdout",
     "output_type": "stream",
     "text": [
      "(150, 4)\n",
      "Feature importance:  [0.09139317 0.06591985 0.38572401 0.45696297]\n",
      "(150, 2)\n"
     ]
    }
   ],
   "source": [
    "from sklearn.ensemble import ExtraTreesClassifier\n",
    "from sklearn.feature_selection import SelectFromModel\n",
    "\n",
    "data_experiment = load_iris()\n",
    "X, y = data_experiment.data, data_experiment.target\n",
    "print(X.shape)\n",
    "\n",
    "clf = ExtraTreesClassifier(n_estimators=50)\n",
    "clf = clf.fit(X, y)\n",
    "print('Feature importance: ', clf.feature_importances_)\n",
    "\n",
    "model = SelectFromModel(clf, prefit=True, threshold=0.3)\n",
    "X_new = model.transform(X)\n",
    "\n",
    "print(X_new.shape)\n",
    "#print(X_new.support_)"
   ]
  },
  {
   "cell_type": "markdown",
   "metadata": {},
   "source": [
    "# PCA"
   ]
  },
  {
   "cell_type": "code",
   "execution_count": 6,
   "metadata": {},
   "outputs": [
    {
     "name": "stdout",
     "output_type": "stream",
     "text": [
      "[[5.1 3.5 1.4 0.2]\n",
      " [4.9 3.  1.4 0.2]\n",
      " [4.7 3.2 1.3 0.2]\n",
      " [4.6 3.1 1.5 0.2]\n",
      " [5.  3.6 1.4 0.2]\n",
      " [5.4 3.9 1.7 0.4]\n",
      " [4.6 3.4 1.4 0.3]\n",
      " [5.  3.4 1.5 0.2]\n",
      " [4.4 2.9 1.4 0.2]\n",
      " [4.9 3.1 1.5 0.1]\n",
      " [5.4 3.7 1.5 0.2]\n",
      " [4.8 3.4 1.6 0.2]\n",
      " [4.8 3.  1.4 0.1]\n",
      " [4.3 3.  1.1 0.1]\n",
      " [5.8 4.  1.2 0.2]\n",
      " [5.7 4.4 1.5 0.4]\n",
      " [5.4 3.9 1.3 0.4]\n",
      " [5.1 3.5 1.4 0.3]\n",
      " [5.7 3.8 1.7 0.3]\n",
      " [5.1 3.8 1.5 0.3]\n",
      " [5.4 3.4 1.7 0.2]\n",
      " [5.1 3.7 1.5 0.4]\n",
      " [4.6 3.6 1.  0.2]\n",
      " [5.1 3.3 1.7 0.5]\n",
      " [4.8 3.4 1.9 0.2]\n",
      " [5.  3.  1.6 0.2]\n",
      " [5.  3.4 1.6 0.4]\n",
      " [5.2 3.5 1.5 0.2]\n",
      " [5.2 3.4 1.4 0.2]\n",
      " [4.7 3.2 1.6 0.2]\n",
      " [4.8 3.1 1.6 0.2]\n",
      " [5.4 3.4 1.5 0.4]\n",
      " [5.2 4.1 1.5 0.1]\n",
      " [5.5 4.2 1.4 0.2]\n",
      " [4.9 3.1 1.5 0.2]\n",
      " [5.  3.2 1.2 0.2]\n",
      " [5.5 3.5 1.3 0.2]\n",
      " [4.9 3.6 1.4 0.1]\n",
      " [4.4 3.  1.3 0.2]\n",
      " [5.1 3.4 1.5 0.2]\n",
      " [5.  3.5 1.3 0.3]\n",
      " [4.5 2.3 1.3 0.3]\n",
      " [4.4 3.2 1.3 0.2]\n",
      " [5.  3.5 1.6 0.6]\n",
      " [5.1 3.8 1.9 0.4]\n",
      " [4.8 3.  1.4 0.3]\n",
      " [5.1 3.8 1.6 0.2]\n",
      " [4.6 3.2 1.4 0.2]\n",
      " [5.3 3.7 1.5 0.2]\n",
      " [5.  3.3 1.4 0.2]\n",
      " [7.  3.2 4.7 1.4]\n",
      " [6.4 3.2 4.5 1.5]\n",
      " [6.9 3.1 4.9 1.5]\n",
      " [5.5 2.3 4.  1.3]\n",
      " [6.5 2.8 4.6 1.5]\n",
      " [5.7 2.8 4.5 1.3]\n",
      " [6.3 3.3 4.7 1.6]\n",
      " [4.9 2.4 3.3 1. ]\n",
      " [6.6 2.9 4.6 1.3]\n",
      " [5.2 2.7 3.9 1.4]\n",
      " [5.  2.  3.5 1. ]\n",
      " [5.9 3.  4.2 1.5]\n",
      " [6.  2.2 4.  1. ]\n",
      " [6.1 2.9 4.7 1.4]\n",
      " [5.6 2.9 3.6 1.3]\n",
      " [6.7 3.1 4.4 1.4]\n",
      " [5.6 3.  4.5 1.5]\n",
      " [5.8 2.7 4.1 1. ]\n",
      " [6.2 2.2 4.5 1.5]\n",
      " [5.6 2.5 3.9 1.1]\n",
      " [5.9 3.2 4.8 1.8]\n",
      " [6.1 2.8 4.  1.3]\n",
      " [6.3 2.5 4.9 1.5]\n",
      " [6.1 2.8 4.7 1.2]\n",
      " [6.4 2.9 4.3 1.3]\n",
      " [6.6 3.  4.4 1.4]\n",
      " [6.8 2.8 4.8 1.4]\n",
      " [6.7 3.  5.  1.7]\n",
      " [6.  2.9 4.5 1.5]\n",
      " [5.7 2.6 3.5 1. ]\n",
      " [5.5 2.4 3.8 1.1]\n",
      " [5.5 2.4 3.7 1. ]\n",
      " [5.8 2.7 3.9 1.2]\n",
      " [6.  2.7 5.1 1.6]\n",
      " [5.4 3.  4.5 1.5]\n",
      " [6.  3.4 4.5 1.6]\n",
      " [6.7 3.1 4.7 1.5]\n",
      " [6.3 2.3 4.4 1.3]\n",
      " [5.6 3.  4.1 1.3]\n",
      " [5.5 2.5 4.  1.3]\n",
      " [5.5 2.6 4.4 1.2]\n",
      " [6.1 3.  4.6 1.4]\n",
      " [5.8 2.6 4.  1.2]\n",
      " [5.  2.3 3.3 1. ]\n",
      " [5.6 2.7 4.2 1.3]\n",
      " [5.7 3.  4.2 1.2]\n",
      " [5.7 2.9 4.2 1.3]\n",
      " [6.2 2.9 4.3 1.3]\n",
      " [5.1 2.5 3.  1.1]\n",
      " [5.7 2.8 4.1 1.3]\n",
      " [6.3 3.3 6.  2.5]\n",
      " [5.8 2.7 5.1 1.9]\n",
      " [7.1 3.  5.9 2.1]\n",
      " [6.3 2.9 5.6 1.8]\n",
      " [6.5 3.  5.8 2.2]\n",
      " [7.6 3.  6.6 2.1]\n",
      " [4.9 2.5 4.5 1.7]\n",
      " [7.3 2.9 6.3 1.8]\n",
      " [6.7 2.5 5.8 1.8]\n",
      " [7.2 3.6 6.1 2.5]\n",
      " [6.5 3.2 5.1 2. ]\n",
      " [6.4 2.7 5.3 1.9]\n",
      " [6.8 3.  5.5 2.1]\n",
      " [5.7 2.5 5.  2. ]\n",
      " [5.8 2.8 5.1 2.4]\n",
      " [6.4 3.2 5.3 2.3]\n",
      " [6.5 3.  5.5 1.8]\n",
      " [7.7 3.8 6.7 2.2]\n",
      " [7.7 2.6 6.9 2.3]\n",
      " [6.  2.2 5.  1.5]\n",
      " [6.9 3.2 5.7 2.3]\n",
      " [5.6 2.8 4.9 2. ]\n",
      " [7.7 2.8 6.7 2. ]\n",
      " [6.3 2.7 4.9 1.8]\n",
      " [6.7 3.3 5.7 2.1]\n",
      " [7.2 3.2 6.  1.8]\n",
      " [6.2 2.8 4.8 1.8]\n",
      " [6.1 3.  4.9 1.8]\n",
      " [6.4 2.8 5.6 2.1]\n",
      " [7.2 3.  5.8 1.6]\n",
      " [7.4 2.8 6.1 1.9]\n",
      " [7.9 3.8 6.4 2. ]\n",
      " [6.4 2.8 5.6 2.2]\n",
      " [6.3 2.8 5.1 1.5]\n",
      " [6.1 2.6 5.6 1.4]\n",
      " [7.7 3.  6.1 2.3]\n",
      " [6.3 3.4 5.6 2.4]\n",
      " [6.4 3.1 5.5 1.8]\n",
      " [6.  3.  4.8 1.8]\n",
      " [6.9 3.1 5.4 2.1]\n",
      " [6.7 3.1 5.6 2.4]\n",
      " [6.9 3.1 5.1 2.3]\n",
      " [5.8 2.7 5.1 1.9]\n",
      " [6.8 3.2 5.9 2.3]\n",
      " [6.7 3.3 5.7 2.5]\n",
      " [6.7 3.  5.2 2.3]\n",
      " [6.3 2.5 5.  1.9]\n",
      " [6.5 3.  5.2 2. ]\n",
      " [6.2 3.4 5.4 2.3]\n",
      " [5.9 3.  5.1 1.8]]\n",
      "[[-2.68412563  0.31939725]\n",
      " [-2.71414169 -0.17700123]\n",
      " [-2.88899057 -0.14494943]\n",
      " [-2.74534286 -0.31829898]\n",
      " [-2.72871654  0.32675451]\n",
      " [-2.28085963  0.74133045]\n",
      " [-2.82053775 -0.08946138]\n",
      " [-2.62614497  0.16338496]\n",
      " [-2.88638273 -0.57831175]\n",
      " [-2.6727558  -0.11377425]\n",
      " [-2.50694709  0.6450689 ]\n",
      " [-2.61275523  0.01472994]\n",
      " [-2.78610927 -0.235112  ]\n",
      " [-3.22380374 -0.51139459]\n",
      " [-2.64475039  1.17876464]\n",
      " [-2.38603903  1.33806233]\n",
      " [-2.62352788  0.81067951]\n",
      " [-2.64829671  0.31184914]\n",
      " [-2.19982032  0.87283904]\n",
      " [-2.5879864   0.51356031]\n",
      " [-2.31025622  0.39134594]\n",
      " [-2.54370523  0.43299606]\n",
      " [-3.21593942  0.13346807]\n",
      " [-2.30273318  0.09870885]\n",
      " [-2.35575405 -0.03728186]\n",
      " [-2.50666891 -0.14601688]\n",
      " [-2.46882007  0.13095149]\n",
      " [-2.56231991  0.36771886]\n",
      " [-2.63953472  0.31203998]\n",
      " [-2.63198939 -0.19696122]\n",
      " [-2.58739848 -0.20431849]\n",
      " [-2.4099325   0.41092426]\n",
      " [-2.64886233  0.81336382]\n",
      " [-2.59873675  1.09314576]\n",
      " [-2.63692688 -0.12132235]\n",
      " [-2.86624165  0.06936447]\n",
      " [-2.62523805  0.59937002]\n",
      " [-2.80068412  0.26864374]\n",
      " [-2.98050204 -0.48795834]\n",
      " [-2.59000631  0.22904384]\n",
      " [-2.77010243  0.26352753]\n",
      " [-2.84936871 -0.94096057]\n",
      " [-2.99740655 -0.34192606]\n",
      " [-2.40561449  0.18887143]\n",
      " [-2.20948924  0.43666314]\n",
      " [-2.71445143 -0.2502082 ]\n",
      " [-2.53814826  0.50377114]\n",
      " [-2.83946217 -0.22794557]\n",
      " [-2.54308575  0.57941002]\n",
      " [-2.70335978  0.10770608]\n",
      " [ 1.28482569  0.68516047]\n",
      " [ 0.93248853  0.31833364]\n",
      " [ 1.46430232  0.50426282]\n",
      " [ 0.18331772 -0.82795901]\n",
      " [ 1.08810326  0.07459068]\n",
      " [ 0.64166908 -0.41824687]\n",
      " [ 1.09506066  0.28346827]\n",
      " [-0.74912267 -1.00489096]\n",
      " [ 1.04413183  0.2283619 ]\n",
      " [-0.0087454  -0.72308191]\n",
      " [-0.50784088 -1.26597119]\n",
      " [ 0.51169856 -0.10398124]\n",
      " [ 0.26497651 -0.55003646]\n",
      " [ 0.98493451 -0.12481785]\n",
      " [-0.17392537 -0.25485421]\n",
      " [ 0.92786078  0.46717949]\n",
      " [ 0.66028376 -0.35296967]\n",
      " [ 0.23610499 -0.33361077]\n",
      " [ 0.94473373 -0.54314555]\n",
      " [ 0.04522698 -0.58383438]\n",
      " [ 1.11628318 -0.08461685]\n",
      " [ 0.35788842 -0.06892503]\n",
      " [ 1.29818388 -0.32778731]\n",
      " [ 0.92172892 -0.18273779]\n",
      " [ 0.71485333  0.14905594]\n",
      " [ 0.90017437  0.32850447]\n",
      " [ 1.33202444  0.24444088]\n",
      " [ 1.55780216  0.26749545]\n",
      " [ 0.81329065 -0.1633503 ]\n",
      " [-0.30558378 -0.36826219]\n",
      " [-0.06812649 -0.70517213]\n",
      " [-0.18962247 -0.68028676]\n",
      " [ 0.13642871 -0.31403244]\n",
      " [ 1.38002644 -0.42095429]\n",
      " [ 0.58800644 -0.48428742]\n",
      " [ 0.80685831  0.19418231]\n",
      " [ 1.22069088  0.40761959]\n",
      " [ 0.81509524 -0.37203706]\n",
      " [ 0.24595768 -0.2685244 ]\n",
      " [ 0.16641322 -0.68192672]\n",
      " [ 0.46480029 -0.67071154]\n",
      " [ 0.8908152  -0.03446444]\n",
      " [ 0.23054802 -0.40438585]\n",
      " [-0.70453176 -1.01224823]\n",
      " [ 0.35698149 -0.50491009]\n",
      " [ 0.33193448 -0.21265468]\n",
      " [ 0.37621565 -0.29321893]\n",
      " [ 0.64257601  0.01773819]\n",
      " [-0.90646986 -0.75609337]\n",
      " [ 0.29900084 -0.34889781]\n",
      " [ 2.53119273 -0.00984911]\n",
      " [ 1.41523588 -0.57491635]\n",
      " [ 2.61667602  0.34390315]\n",
      " [ 1.97153105 -0.1797279 ]\n",
      " [ 2.35000592 -0.04026095]\n",
      " [ 3.39703874  0.55083667]\n",
      " [ 0.52123224 -1.19275873]\n",
      " [ 2.93258707  0.3555    ]\n",
      " [ 2.32122882 -0.2438315 ]\n",
      " [ 2.91675097  0.78279195]\n",
      " [ 1.66177415  0.24222841]\n",
      " [ 1.80340195 -0.21563762]\n",
      " [ 2.1655918   0.21627559]\n",
      " [ 1.34616358 -0.77681835]\n",
      " [ 1.58592822 -0.53964071]\n",
      " [ 1.90445637  0.11925069]\n",
      " [ 1.94968906  0.04194326]\n",
      " [ 3.48705536  1.17573933]\n",
      " [ 3.79564542  0.25732297]\n",
      " [ 1.30079171 -0.76114964]\n",
      " [ 2.42781791  0.37819601]\n",
      " [ 1.19900111 -0.60609153]\n",
      " [ 3.49992004  0.4606741 ]\n",
      " [ 1.38876613 -0.20439933]\n",
      " [ 2.2754305   0.33499061]\n",
      " [ 2.61409047  0.56090136]\n",
      " [ 1.25850816 -0.17970479]\n",
      " [ 1.29113206 -0.11666865]\n",
      " [ 2.12360872 -0.20972948]\n",
      " [ 2.38800302  0.4646398 ]\n",
      " [ 2.84167278  0.37526917]\n",
      " [ 3.23067366  1.37416509]\n",
      " [ 2.15943764 -0.21727758]\n",
      " [ 1.44416124 -0.14341341]\n",
      " [ 1.78129481 -0.49990168]\n",
      " [ 3.07649993  0.68808568]\n",
      " [ 2.14424331  0.1400642 ]\n",
      " [ 1.90509815  0.04930053]\n",
      " [ 1.16932634 -0.16499026]\n",
      " [ 2.10761114  0.37228787]\n",
      " [ 2.31415471  0.18365128]\n",
      " [ 1.9222678   0.40920347]\n",
      " [ 1.41523588 -0.57491635]\n",
      " [ 2.56301338  0.2778626 ]\n",
      " [ 2.41874618  0.3047982 ]\n",
      " [ 1.94410979  0.1875323 ]\n",
      " [ 1.52716661 -0.37531698]\n",
      " [ 1.76434572  0.07885885]\n",
      " [ 1.90094161  0.11662796]\n",
      " [ 1.39018886 -0.28266094]]\n"
     ]
    }
   ],
   "source": [
    "experiment_data = load_iris()#load_breast_cancer()\n",
    "\n",
    "data_experiment = load_iris()\n",
    "X, y = data_experiment.data, data_experiment.target\n",
    "\n",
    "pca = PCA(n_components=2)\n",
    "\n",
    "pca_fit = pca.fit(X)\n",
    "explained_variance_\n",
    "\n",
    "X = pca_fit.transform(X)\n"
   ]
  },
  {
   "cell_type": "code",
   "execution_count": null,
   "metadata": {},
   "outputs": [],
   "source": []
  }
 ],
 "metadata": {
  "kernelspec": {
   "display_name": "Python 3",
   "language": "python",
   "name": "python3"
  },
  "language_info": {
   "codemirror_mode": {
    "name": "ipython",
    "version": 3
   },
   "file_extension": ".py",
   "mimetype": "text/x-python",
   "name": "python",
   "nbconvert_exporter": "python",
   "pygments_lexer": "ipython3",
   "version": "3.6.8"
  }
 },
 "nbformat": 4,
 "nbformat_minor": 2
}
