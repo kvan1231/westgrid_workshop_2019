{
 "cells": [
  {
   "cell_type": "code",
   "execution_count": 1,
   "metadata": {},
   "outputs": [],
   "source": [
    "import numpy as np\n",
    "from sklearn.datasets import load_iris\n",
    "from sklearn.decomposition import PCA"
   ]
  },
  {
   "cell_type": "markdown",
   "metadata": {},
   "source": [
    "# Standard Scale\n",
    "\n",
    "#More info: https://medium.com/greyatom/why-how-and-when-to-scale-your-features-4b30ab09db5e\n"
   ]
  },
  {
   "cell_type": "code",
   "execution_count": 2,
   "metadata": {},
   "outputs": [
    {
     "name": "stdout",
     "output_type": "stream",
     "text": [
      "[[-1.06904497 -0.5132649 ]\n",
      " [ 1.60356745  1.86975072]\n",
      " [ 0.26726124  0.03666178]\n",
      " [ 0.26726124 -0.32995601]\n",
      " [-1.06904497 -1.06319158]]\n",
      "mean=[-8.8817842e-17  0.0000000e+00], std[1. 1.]\n"
     ]
    }
   ],
   "source": [
    "X = np.array([[1, 65],[3, 130],[2, 80],[2, 70],[1, 50]])\n",
    "\n",
    "X_t = (X - X.mean(axis=0))/X.std(axis=0)\n",
    "\n",
    "\n",
    "print(X_t)\n",
    "print(\"mean={}, std{}\".format(X_t.mean(axis=0), X_t.std(axis=0)))\n"
   ]
  },
  {
   "cell_type": "markdown",
   "metadata": {},
   "source": [
    "======================================================================================================"
   ]
  },
  {
   "cell_type": "markdown",
   "metadata": {},
   "source": [
    "# Feature Selection methods"
   ]
  },
  {
   "cell_type": "markdown",
   "metadata": {},
   "source": [
    "# Removing features with low variance\n",
    "More info: https://scikit-learn.org/stable/modules/generated/sklearn.feature_selection.VarianceThreshold.html"
   ]
  },
  {
   "cell_type": "code",
   "execution_count": 21,
   "metadata": {},
   "outputs": [
    {
     "name": "stdout",
     "output_type": "stream",
     "text": [
      " min: 4.3  max: 7.9  mean: 5.843333333333334  var: 0.6811222222222223\n",
      "-------------------\n",
      " min: 2.0  max: 4.4  mean: 3.0573333333333337  var: 0.1887128888888889\n",
      "-------------------\n",
      " min: 1.0  max: 6.9  mean: 3.7580000000000005  var: 3.0955026666666665\n",
      "-------------------\n",
      " min: 0.1  max: 2.5  mean: 1.1993333333333336  var: 0.5771328888888888\n",
      "-------------------\n",
      "(150, 4)\n",
      "(150, 3)\n"
     ]
    }
   ],
   "source": [
    "from sklearn.feature_selection import VarianceThreshold\n",
    "\n",
    "iris = load_iris()\n",
    "X = iris.data\n",
    "\n",
    "for i in range(len(X[0])):\n",
    "    print(' min:', np.min(X[:,i]), ' max:', np.max(X[:,i]), ' mean:', np.mean(X[:,i]), ' var:', np.var(X[:,i]))\n",
    "    #var = mean(abs(x - x.mean())**2)\n",
    "    print('-------------------')\n",
    "\n",
    "\n",
    "print(X.shape)\n",
    "\n",
    "# complete this part =================================================\n",
    "\n",
    "variance_selector = VarianceThreshold(threshold=(0.25))\n",
    "X = variance_selector.fit_transform(X)\n",
    "\n",
    "\n",
    "print(X.shape)"
   ]
  },
  {
   "cell_type": "markdown",
   "metadata": {},
   "source": [
    "# Univariate feature selection"
   ]
  },
  {
   "cell_type": "markdown",
   "metadata": {},
   "source": [
    "### SelectKBest\n",
    "More info: https://scikit-learn.org/stable/modules/generated/sklearn.feature_selection.SelectKBest.html"
   ]
  },
  {
   "cell_type": "code",
   "execution_count": 10,
   "metadata": {},
   "outputs": [
    {
     "name": "stdout",
     "output_type": "stream",
     "text": [
      "[ 10.81782088   3.7107283  116.31261309  67.0483602 ]\n",
      "[[5.1 1.4 0.2]\n",
      " [4.9 1.4 0.2]\n",
      " [4.7 1.3 0.2]\n",
      " [4.6 1.5 0.2]\n",
      " [5.  1.4 0.2]]\n"
     ]
    }
   ],
   "source": [
    "from sklearn.feature_selection import SelectKBest\n",
    "from sklearn.feature_selection import chi2\n",
    "\n",
    "iris = load_iris()\n",
    "X, y = iris.data, iris.target\n",
    "X_new = SelectKBest(chi2, k=3).fit(X,y)\n",
    "\n",
    "# complete this part =================================================\n",
    "\n",
    "features = X_new.transform(X)\n",
    "\n",
    "print(X_new.scores_)\n",
    "print(features[0:5,:])"
   ]
  },
  {
   "cell_type": "markdown",
   "metadata": {},
   "source": [
    "### SelectPercentile\n",
    "More info: https://scikit-learn.org/stable/modules/generated/sklearn.feature_selection.SelectPercentile.html"
   ]
  },
  {
   "cell_type": "code",
   "execution_count": 7,
   "metadata": {},
   "outputs": [
    {
     "name": "stdout",
     "output_type": "stream",
     "text": [
      "(150, 4)\n",
      "(150, 2)\n"
     ]
    }
   ],
   "source": [
    "from sklearn.feature_selection import SelectPercentile\n",
    "from sklearn.feature_selection import chi2\n",
    "\n",
    "data_experiment = load_iris()\n",
    "X, y = data_experiment.data, data_experiment.target\n",
    "print(X.shape)\n",
    "\n",
    "X_new = SelectPercentile(chi2, percentile=60).fit_transform(X, y)\n",
    "\n",
    "print(X_new.shape)"
   ]
  },
  {
   "cell_type": "markdown",
   "metadata": {},
   "source": [
    "# Recursive Feature Elimination\n",
    "More info: https://scikit-learn.org/stable/modules/generated/sklearn.feature_selection.RFE.html"
   ]
  },
  {
   "cell_type": "code",
   "execution_count": 19,
   "metadata": {},
   "outputs": [
    {
     "name": "stdout",
     "output_type": "stream",
     "text": [
      "(150, 4)\n",
      "Fitting estimator with 4 features.\n",
      "(150, 2)\n",
      "[False False  True  True]\n",
      "[2 2 1 1]\n"
     ]
    }
   ],
   "source": [
    "from sklearn.feature_selection import RFE\n",
    "from sklearn.svm import SVR\n",
    "\n",
    "\n",
    "data_experiment = load_iris()\n",
    "X, y = data_experiment.data, data_experiment.target\n",
    "\n",
    "print(X.shape)\n",
    "\n",
    "estimator = SVR(kernel=\"linear\")\n",
    "# step: If greater than or equal to 1,\n",
    "# then step corresponds to the (integer) number of features to remove at each iteration.\n",
    "selector = RFE(estimator, n_features_to_select =2, step=2, verbose=True)\n",
    "\n",
    "selector = selector.fit(X, y)\n",
    "X_new = selector.transform(X)\n",
    "\n",
    "print(X_new.shape)\n",
    "\n",
    "print(selector.support_)\n",
    "print(selector.ranking_)"
   ]
  },
  {
   "cell_type": "markdown",
   "metadata": {},
   "source": [
    "### Recursive feature elimination with cross validation\n",
    "More info: https://scikit-learn.org/stable/modules/generated/sklearn.feature_selection.RFECV.html"
   ]
  },
  {
   "cell_type": "code",
   "execution_count": 17,
   "metadata": {},
   "outputs": [
    {
     "name": "stdout",
     "output_type": "stream",
     "text": [
      "(150, 4)\n",
      "2\n",
      "[False False  True  True]\n",
      "[2 3 1 1]\n"
     ]
    }
   ],
   "source": [
    "from sklearn.feature_selection import RFECV\n",
    "from sklearn.svm import SVR\n",
    "from sklearn.ensemble import RandomForestClassifier\n",
    "\n",
    "data_experiment = load_iris()\n",
    "X = data_experiment.data\n",
    "y = data_experiment.target\n",
    "print(X.shape)\n",
    "\n",
    "# feature extraction\n",
    "#estimator = RandomForestClassifier(n_estimators=10)\n",
    "estimator = SVR(kernel=\"linear\")\n",
    "rfe = RFECV(estimator, min_features_to_select=2, cv=3)\n",
    "fit = rfe.fit(X, y)\n",
    "\n",
    "print(fit.n_features_) # features\n",
    "print(fit.support_) # Selected Features:\n",
    "print(fit.ranking_) #Feature Ranking\n"
   ]
  },
  {
   "cell_type": "markdown",
   "metadata": {},
   "source": [
    "# Feature selection using SelectFromModel\n",
    "More info: https://scikit-learn.org/stable/modules/generated/sklearn.feature_selection.SelectFromModel.html"
   ]
  },
  {
   "cell_type": "code",
   "execution_count": 7,
   "metadata": {},
   "outputs": [
    {
     "name": "stdout",
     "output_type": "stream",
     "text": [
      "(150, 4)\n",
      "Feature importance:  [0.09139317 0.06591985 0.38572401 0.45696297]\n",
      "(150, 2)\n"
     ]
    }
   ],
   "source": [
    "from sklearn.ensemble import ExtraTreesClassifier\n",
    "from sklearn.feature_selection import SelectFromModel\n",
    "\n",
    "data_experiment = load_iris()\n",
    "X, y = data_experiment.data, data_experiment.target\n",
    "print(X.shape)\n",
    "\n",
    "clf = ExtraTreesClassifier(n_estimators=50)\n",
    "clf = clf.fit(X, y)\n",
    "print('Feature importance: ', clf.feature_importances_)\n",
    "\n",
    "model = SelectFromModel(clf, prefit=True, threshold=0.3)\n",
    "X_new = model.transform(X)\n",
    "\n",
    "print(X_new.shape)\n",
    "#print(X_new.support_)"
   ]
  },
  {
   "cell_type": "markdown",
   "metadata": {},
   "source": [
    "# PCA"
   ]
  },
  {
   "cell_type": "code",
   "execution_count": 20,
   "metadata": {},
   "outputs": [],
   "source": [
    "experiment_data = load_iris()#load_breast_cancer()\n",
    "\n",
    "data_experiment = load_iris()\n",
    "X, y = data_experiment.data, data_experiment.target\n",
    "\n",
    "pca = PCA(n_components=2)\n",
    "\n",
    "pca_fit = pca.fit(X)\n",
    "explained_variance_\n",
    "\n",
    "X = pca_fit.transform(X)\n"
   ]
  },
  {
   "cell_type": "code",
   "execution_count": null,
   "metadata": {},
   "outputs": [],
   "source": []
  }
 ],
 "metadata": {
  "kernelspec": {
   "display_name": "Python 3",
   "language": "python",
   "name": "python3"
  },
  "language_info": {
   "codemirror_mode": {
    "name": "ipython",
    "version": 3
   },
   "file_extension": ".py",
   "mimetype": "text/x-python",
   "name": "python",
   "nbconvert_exporter": "python",
   "pygments_lexer": "ipython3",
   "version": "3.6.8"
  }
 },
 "nbformat": 4,
 "nbformat_minor": 2
}
